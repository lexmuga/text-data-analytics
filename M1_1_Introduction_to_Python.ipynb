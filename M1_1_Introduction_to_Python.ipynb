{
  "nbformat": 4,
  "nbformat_minor": 0,
  "metadata": {
    "colab": {
      "provenance": [],
      "authorship_tag": "ABX9TyPmf5iXvUSTge8EkTDUA1aI",
      "include_colab_link": true
    },
    "kernelspec": {
      "name": "python3",
      "display_name": "Python 3"
    },
    "language_info": {
      "name": "python"
    }
  },
  "cells": [
    {
      "cell_type": "markdown",
      "metadata": {
        "id": "view-in-github",
        "colab_type": "text"
      },
      "source": [
        "<a href=\"https://colab.research.google.com/github/lexmuga/text-data-analytics/blob/main/M1_1_Introduction_to_Python.ipynb\" target=\"_parent\"><img src=\"https://colab.research.google.com/assets/colab-badge.svg\" alt=\"Open In Colab\"/></a>"
      ]
    },
    {
      "cell_type": "markdown",
      "source": [
        "# 1.1 Basics of Python\n",
        "\n",
        "Welcome to our introduction to Python.\n",
        "\n",
        "Python is a high-level, interpreted programming language known for its simplicity and readability. It was created by Guido van Rossum and released in 1991.\n",
        "\n",
        "Today, Python is widely used for web development, data analysis, artificial intelligence, and more. To get started, you’ll need to install Python and choose an Integrated Development Environment (IDE) like Jupyter Notebook, PyCharm, or VS Code."
      ],
      "metadata": {
        "id": "EkDSdDOQiktL"
      }
    },
    {
      "cell_type": "markdown",
      "source": [
        "## 1.1.1 Python Syntax and Basic Data Types\n",
        "\n",
        "Python’s syntax is designed to be readable and straightforward.\n",
        "\n",
        "Unlike many languages, Python uses indentation to define blocks of code.\n",
        "\n",
        "Comments can be added using the `#` symbol.\n",
        "\n",
        "Python supports several basic data types, including integers, floats for decimal numbers, strings for text, and booleans for true/false values.\n",
        "\n"
      ],
      "metadata": {
        "id": "UZYf1EbPiqZ_"
      }
    },
    {
      "cell_type": "code",
      "execution_count": null,
      "metadata": {
        "id": "XW1hCq3VibrI"
      },
      "outputs": [],
      "source": [
        "# Code snippet 1\n",
        "\n"
      ]
    },
    {
      "cell_type": "markdown",
      "source": [
        "## 1.1.2  Variables and Basic Operations\n",
        "\n",
        "Variables in Python do not require explicit declaration; you can directly assign a value to a variable using the `=` operator.\n",
        "\n",
        "Python supports basic arithmetic operations such as addition, subtraction, multiplication, division, integer division, modulus, and exponentiation.\n",
        "\n",
        "Additionally, assignment operators like `+=` and `-=` simplify variable updates.\n"
      ],
      "metadata": {
        "id": "Qf4rxWt_u_vE"
      }
    },
    {
      "cell_type": "code",
      "source": [
        "# Code snippet 2"
      ],
      "metadata": {
        "id": "cXw_IiBVvdJj"
      },
      "execution_count": null,
      "outputs": []
    },
    {
      "cell_type": "markdown",
      "source": [
        "## 1.1.3 Data Structures: Lists and Tuples\n",
        "\n",
        "Lists and tuples are fundamental data structures in Python. Lists are mutable, meaning their content can be changed after creation, and they are ordered sequences of elements.\n",
        "\n",
        "Tuples, on the other hand, are immutable; once created, their content cannot be changed.\n",
        "\n",
        "Both lists and tuples support operations like indexing and slicing. Lists have additional methods for modification."
      ],
      "metadata": {
        "id": "KReMD8PPvgSh"
      }
    },
    {
      "cell_type": "code",
      "source": [
        "# Code snippet 3"
      ],
      "metadata": {
        "id": "KmJGnxm8vpHg"
      },
      "execution_count": null,
      "outputs": []
    },
    {
      "cell_type": "markdown",
      "source": [
        "## 1.1.4  Control Flow Statements\n",
        "\n",
        "Control flow statements allow you to execute code based on conditions and repeatedly execute code blocks.\n",
        "\n",
        "The `if` statement checks a condition and executes code accordingly. You can add `elif` for additional conditions and `else` for the default case.\n",
        "\n",
        "Looping is done using `for` loops, which iterate over sequences, and `while` loops, which run as long as a condition is true. The `break` statement exits a loop, and `continue` skips to the next iteration."
      ],
      "metadata": {
        "id": "oK-pM5JavsD-"
      }
    },
    {
      "cell_type": "code",
      "source": [
        "# Code snippet 4\n"
      ],
      "metadata": {
        "id": "spDYek9ev9Cp"
      },
      "execution_count": null,
      "outputs": []
    },
    {
      "cell_type": "markdown",
      "source": [
        "## 1.1.5 Basic Input and Output\n",
        "\n",
        "Python provides simple functions for input and output.\n",
        "\n",
        "The `input()` function allows you to capture user input as a string.\n",
        "\n",
        "You can use the `print()` function to display output.\n",
        "\n",
        "Together, they enable basic interaction with the user.\n"
      ],
      "metadata": {
        "id": "dqViwjpbv_Q1"
      }
    },
    {
      "cell_type": "code",
      "source": [
        "# Code snippet 5\n"
      ],
      "metadata": {
        "id": "LkyH-y4kwJL8"
      },
      "execution_count": null,
      "outputs": []
    },
    {
      "cell_type": "markdown",
      "source": [
        "## 1.1.6  Basic String Operations\n",
        "\n",
        "Strings in Python are sequences of characters.\n",
        "\n",
        "You can concatenate strings using the `+` operator and perform various operations using string methods.\n",
        "\n",
        "Methods like `lower()` and `upper()` change the case of the string, `replace()` substitutes parts of the string, and `find()` locates substrings.\n",
        "\n",
        "You can also slice strings to extract parts of them."
      ],
      "metadata": {
        "id": "z9Vz7LYNwLQc"
      }
    },
    {
      "cell_type": "code",
      "source": [
        "# Code snippet 6"
      ],
      "metadata": {
        "id": "8AZlbhcAwUmO"
      },
      "execution_count": null,
      "outputs": []
    }
  ]
}