{
 "cells": [
  {
   "cell_type": "markdown",
   "metadata": {},
   "source": [
    "# 1.1.2 Functions and Modules\n",
    "\n",
    "Functions are a fundamental building block in Python. \n",
    "\n",
    "They help you organize your code into reusable and modular blocks, which makes your code easier to read, maintain, and debug. \n",
    "\n",
    "By defining a function, you can write a piece of code once and use it multiple times.\n"
   ]
  },
  {
   "cell_type": "markdown",
   "metadata": {},
   "source": [
    "\n",
    "## 1.1.2.1 Defining and Calling Functions\n",
    "\n",
    "To define a function in Python, you use the `def` keyword followed by the function name and parentheses. \n",
    "\n",
    "Inside the parentheses, you can specify parameters. Here’s a simple example:\n"
   ]
  },
  {
   "cell_type": "code",
   "execution_count": null,
   "metadata": {},
   "outputs": [],
   "source": [
    "# Code snippet 1.1.2.1\n",
    "def greet(name):\n",
    "    print(f\"Hello, {name}!\")\n",
    "\n",
    "greet(\"Python\")"
   ]
  },
  {
   "cell_type": "markdown",
   "metadata": {},
   "source": [
    "In this example, we define a function greet that takes one parameter, name, and prints a greeting message. \n",
    "\n",
    "We then call the function with the argument ‘Python’."
   ]
  },
  {
   "cell_type": "markdown",
   "metadata": {},
   "source": [
    "## 1.1.2.2  Function Arguments\n",
    "\n",
    "Functions can take various types of arguments: \n",
    "\n",
    "*  positional arguments, \n",
    "*  keyword arguments, and \n",
    "*  arguments with default values. \n",
    "\n",
    "Here’s how you can use them:\n",
    "\n"
   ]
  },
  {
   "cell_type": "code",
   "execution_count": null,
   "metadata": {},
   "outputs": [],
   "source": [
    "# Code snippet 1.1.2.2\n",
    "def add(x, y=10):\n",
    "    return x + y\n",
    "\n",
    "result1 = add(5, 2)  # Positional arguments\n",
    "result2 = add(5)     # Uses default value for y\n",
    "print(result1)\n",
    "print(result2)"
   ]
  },
  {
   "cell_type": "markdown",
   "metadata": {},
   "source": [
    "In this example, `add` is a function with two parameters, `x` and `y`. \n",
    "\n",
    "The parameter `y` has a default value of `10`. \n",
    "\n",
    "We call the function twice, once with two arguments and once with only one, relying on the default value for `y`."
   ]
  },
  {
   "cell_type": "markdown",
   "metadata": {},
   "source": [
    "## 1.1.2.3 Return Values\n",
    "\n",
    "Functions can return values using the `return` keyword. \n",
    "\n",
    "This allows you to capture the output of a function and use it in your code. Here’s an example:"
   ]
  },
  {
   "cell_type": "code",
   "execution_count": null,
   "metadata": {},
   "outputs": [],
   "source": [
    "# Code snippet 1.1.2.3\n",
    "def square(x):\n",
    "    return x * x\n",
    "\n",
    "result = square(5)\n",
    "print(result)"
   ]
  },
  {
   "cell_type": "markdown",
   "metadata": {},
   "source": [
    "In this example, the `square` function takes a number `x` and returns its square. \n",
    "\n",
    "We call the function with the argument `5` and print the `result`.\n"
   ]
  },
  {
   "cell_type": "markdown",
   "metadata": {},
   "source": [
    "## 1.1.2.4  Lambda Functions\n",
    "\n",
    "Lambda functions are a way to create small, anonymous functions on the fly. \n",
    "\n",
    "They are often used for short operations and can be defined using the `lambda` keyword. \n",
    "\n",
    "Here are some examples:"
   ]
  },
  {
   "cell_type": "code",
   "execution_count": null,
   "metadata": {},
   "outputs": [],
   "source": [
    "# Code snippet 1.1.2.4\n",
    "square = lambda x: x * x\n",
    "print(square(5))\n",
    "\n",
    "add = lambda x, y: x + y\n",
    "print(add(3, 4))"
   ]
  },
  {
   "cell_type": "markdown",
   "metadata": {},
   "source": [
    "In this example, we define two lambda functions: \n",
    "*  one to `square` a number, and \n",
    "*  one to `add` two numbers. \n",
    "\n",
    "Lambda functions are especially useful in situations where you need a simple function for a short period."
   ]
  },
  {
   "cell_type": "markdown",
   "metadata": {},
   "source": [
    "## 1.1.2.5 Introduction to Module\n",
    "\n",
    "Modules in Python are files containing Python code. \n",
    "\n",
    "They help you organize your code into manageable sections and allow for reuse across different programs. \n",
    "\n",
    "You can import modules using the import statement. \n",
    "\n",
    "Here are some examples:\n"
   ]
  },
  {
   "cell_type": "code",
   "execution_count": null,
   "metadata": {},
   "outputs": [],
   "source": [
    "# Code snippet 1.1.2.5\n",
    "\n",
    "import math\n",
    "from math import sqrt\n",
    "import numpy as np\n",
    "\n",
    "print(math.pi)\n",
    "print(sqrt(16))\n",
    "print(np.array([1, 2, 3]))"
   ]
  },
  {
   "cell_type": "markdown",
   "metadata": {},
   "source": [
    "In this example, we \n",
    "\n",
    "*  import the `math` module, use the `from ... import` syntax to import a specific function from the `math` module, and \n",
    "*  import the `numpy` library with an alias `np`. \n",
    "\n",
    "We then use these imports to access mathematical constants, functions, and create an array."
   ]
  },
  {
   "cell_type": "markdown",
   "metadata": {},
   "source": [
    "## 1.1.2.6  Creating and Using Custom Modules\n",
    "\n",
    "You can create your own modules by writing functions and saving them in a `.py` file. \n",
    "\n",
    "You can then import these custom modules into other scripts, just like built-in modules. Here’s an example:”\n"
   ]
  },
  {
   "cell_type": "code",
   "execution_count": null,
   "metadata": {},
   "outputs": [],
   "source": [
    "# Code snippet 1.1.2.6\n",
    "# my_module.py\n",
    "def greet(name):\n",
    "    print(f\"Hello, {name}!\")\n",
    "\n",
    "# main.py\n",
    "import my_module\n",
    "my_module.greet(\"Python\")"
   ]
  },
  {
   "cell_type": "markdown",
   "metadata": {},
   "source": [
    "In this example, we create a custom module `my_module.py` with a greet function.\n",
    "\n",
    "We then import this module into another script `main.py` and call the `greet` function. \n",
    " \n",
    "This way, you can organize your code into different files and reuse it across multiple programs."
   ]
  },
  {
   "cell_type": "markdown",
   "metadata": {},
   "source": [
    "\n",
    "### Summary\n",
    "\n",
    "This lecture introduces the concept of functions and modules in Python, covering \n",
    "*  how to define and call functions, \n",
    "*  use different types of function arguments, \n",
    "*  return values, \n",
    "*  create lambda functions, and \n",
    "*  organize code using modules. \n",
    "\n",
    "These concepts are essential for writing clean, modular, and reusable code in Python."
   ]
  }
 ],
 "metadata": {
  "kernelspec": {
   "display_name": "Python 3",
   "language": "python",
   "name": "python3"
  },
  "language_info": {
   "codemirror_mode": {
    "name": "ipython",
    "version": 3
   },
   "file_extension": ".py",
   "mimetype": "text/x-python",
   "name": "python",
   "nbconvert_exporter": "python",
   "pygments_lexer": "ipython3",
   "version": "3.12.2"
  }
 },
 "nbformat": 4,
 "nbformat_minor": 2
}
