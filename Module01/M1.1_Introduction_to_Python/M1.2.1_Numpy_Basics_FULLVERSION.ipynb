{
 "cells": [
  {
   "cell_type": "markdown",
   "metadata": {},
   "source": [
    "---\n",
    "# 1.2.1 NumPy Basics\n",
    "---\n",
    "\n",
    "`NumPy`, which stands for **Numerical Python**, is a cornerstone of scientific computing in Python. \n",
    "\n",
    "It allows you to work with large, multi-dimensional arrays and matrices, and it provides a plethora of mathematical functions to manipulate these arrays efficiently. \n",
    "\n",
    "Whether you’re doing data analysis, machine learning, or any form of computational science, NumPy is a must-know tool because of its speed and versatility.\n"
   ]
  },
  {
   "cell_type": "markdown",
   "metadata": {},
   "source": [
    "---\n",
    "## 1.2.1.1  Creating NumPy Arrays \n",
    "---\n",
    "\n",
    "`NumPy` provides various ways to create arrays. \n",
    "\n",
    "You can convert lists or tuples into arrays using `np.array()`. \n",
    "\n",
    "Additionally, you can create arrays filled with \n",
    "*  zeros using `np.zeros()`, \n",
    "*  ones using `np.ones()`, \n",
    "*  evenly spaced values using `np.arange()`, and \n",
    "*  linearly spaced values using `np.linspace()`. \n",
    "\n",
    "Let’s look at some examples."
   ]
  },
  {
   "cell_type": "code",
   "execution_count": 1,
   "metadata": {},
   "outputs": [
    {
     "name": "stdout",
     "output_type": "stream",
     "text": [
      "Array from list: [1 2 3]\n",
      "Array of zeros: [[0. 0. 0.]\n",
      " [0. 0. 0.]]\n",
      "Array of ones: [[1. 1. 1.]\n",
      " [1. 1. 1.]]\n",
      "Array with range: [0 2 4 6 8]\n",
      "Array with linspace: [0.   0.25 0.5  0.75 1.  ]\n"
     ]
    }
   ],
   "source": [
    "## Code snippet 1.2.1.1\n",
    "\n",
    "import numpy as np\n",
    "\n",
    "array_from_list = np.array([1, 2, 3])\n",
    "array_of_zeros = np.zeros((2, 3))\n",
    "array_of_ones = np.ones((2, 3))\n",
    "array_range = np.arange(0, 10, 2)\n",
    "array_linspace = np.linspace(0, 1, 5)\n",
    "\n",
    "print(\"Array from list:\", array_from_list)\n",
    "print(\"Array of zeros:\", array_of_zeros)\n",
    "print(\"Array of ones:\", array_of_ones)\n",
    "print(\"Array with range:\", array_range)\n",
    "print(\"Array with linspace:\", array_linspace)\n"
   ]
  },
  {
   "cell_type": "markdown",
   "metadata": {},
   "source": [
    "---\n",
    "## 1.2.1.2 Array Attributes\n",
    "---\n",
    "\n",
    "Once you have created an array, it’s important to understand its structure and properties. \n",
    "\n",
    "NumPy arrays have several attributes that give you this information. \n",
    "*  `shape` tells you the dimensions of the array, \n",
    "*  `size` gives the total number of elements, \n",
    "*  `dtype` shows the data type of the elements, and \n",
    "*  `ndim` provides the number of dimensions of the array. \n",
    "\n",
    "Let’s explore these attributes."
   ]
  },
  {
   "cell_type": "code",
   "execution_count": 5,
   "metadata": {},
   "outputs": [
    {
     "name": "stdout",
     "output_type": "stream",
     "text": [
      "[[1 2 3]\n",
      " [4 5 6]] \n",
      "\n",
      "Shape: (2, 3)\n",
      "Size: 6\n",
      "Data type: int64\n",
      "Number of dimensions: 2\n"
     ]
    }
   ],
   "source": [
    "## Code snippet 1.2.1.2\n",
    "\n",
    "array = np.array([[1, 2, 3], [4, 5, 6]])\n",
    "\n",
    "print(array,\"\\n\")\n",
    "print(\"Shape:\", array.shape)\n",
    "print(\"Size:\", array.size)\n",
    "print(\"Data type:\", array.dtype)\n",
    "print(\"Number of dimensions:\", array.ndim)"
   ]
  },
  {
   "cell_type": "markdown",
   "metadata": {},
   "source": [
    "---\n",
    "## 1.2.1.3  Array Indexing and Slicing\n",
    "---\n",
    "\n",
    "Accessing elements in a NumPy array is similar to lists in Python but also extends to multi-dimensional arrays. \n",
    "\n",
    "You can use *indexing* to access individual elements and *slicing* to extract subarrays. \n",
    "\n",
    "Let’s see how it works with some examples."
   ]
  },
  {
   "cell_type": "code",
   "execution_count": 10,
   "metadata": {},
   "outputs": [
    {
     "name": "stdout",
     "output_type": "stream",
     "text": [
      "[[1 2 3]\n",
      " [4 5 6]] \n",
      "\n",
      "First element: [1 2 3]\n",
      "Element at (0,1): 2\n",
      "Second row: [4 5 6]\n",
      "Third column: [3 6]\n"
     ]
    }
   ],
   "source": [
    "## Code snippet 1.2.1.3\n",
    "\n",
    "array = np.array([[1, 2, 3], [4, 5, 6]])\n",
    "\n",
    "print(array,\"\\n\")\n",
    "print(\"First element:\", array[0])\n",
    "print(\"Element at (0,1):\", array[0, 1])\n",
    "print(\"Second row:\", array[1, :])\n",
    "print(\"Third column:\", array[:, 2])"
   ]
  },
  {
   "cell_type": "markdown",
   "metadata": {},
   "source": [
    "---\n",
    "##  1.2.1.4  Array operations\n",
    "---\n",
    "\n",
    "`NumPy` makes it easy to perform element-wise arithmetic operations on arrays. \n",
    "\n",
    "You can *add*, *subtract*, *multiply*, and *divide* arrays directly. \n",
    "\n",
    "Additionally, `NumPy` supports *broadcasting*, which allows you to perform operations on arrays of different shapes. \n",
    "\n",
    "Here are some examples."
   ]
  },
  {
   "cell_type": "code",
   "execution_count": 26,
   "metadata": {},
   "outputs": [
    {
     "name": "stdout",
     "output_type": "stream",
     "text": [
      "array1 =  [1 2 3]\n",
      "array2 =  [4 5 6] \n",
      "\n",
      "Addition: [5 7 9]\n",
      "Multiplication by scalar: [2 4 6]\n",
      "Division: [0.25 0.4  0.5 ]\n"
     ]
    }
   ],
   "source": [
    "## Code snippet 1.2.1.4a\n",
    "\n",
    "array1 = np.array([1, 2, 3])\n",
    "array2 = np.array([4, 5, 6])\n",
    "\n",
    "print(\"array1 = \", array1)\n",
    "print(\"array2 = \", array2,\"\\n\")\n",
    "print(\"Addition:\", array1 + array2)\n",
    "print(\"Multiplication by scalar:\", array1 * 2)\n",
    "print(\"Division:\", array1 / array2)\n"
   ]
  },
  {
   "cell_type": "code",
   "execution_count": 28,
   "metadata": {},
   "outputs": [
    {
     "name": "stdout",
     "output_type": "stream",
     "text": [
      "A = \n",
      " [[1 2 3]\n",
      " [4 5 6]]\n",
      "B = \n",
      " [[3]\n",
      " [6]]\n",
      "\n",
      "A + B = \n",
      " [[ 4  5  6]\n",
      " [10 11 12]]\n"
     ]
    }
   ],
   "source": [
    "## Code snippet 1.2.1.4b\n",
    "# Broadcasting\n",
    "\n",
    "A = np.array([[1, 2, 3], [4, 5, 6]])\n",
    "B = np.array([[3],[6]])\n",
    "\n",
    "print(f'A = \\n {A}')\n",
    "print(f'B = \\n {B}\\n')\n",
    "print(f'A + B = \\n {A + B}')\n"
   ]
  },
  {
   "cell_type": "markdown",
   "metadata": {},
   "source": [
    "---\n",
    "## 1.2.1.5  Universal Functions (ufuncs)\n",
    "---\n",
    "\n",
    "`NumPy` provides a set of universal functions (`ufuncs`) that perform element-wise operations on arrays. \n",
    "\n",
    "These functions are highly optimized and provide a convenient way to apply mathematical operations to entire arrays. \n",
    "\n",
    "Let’s look at a few common ufuncs."
   ]
  },
  {
   "cell_type": "code",
   "execution_count": 36,
   "metadata": {},
   "outputs": [
    {
     "name": "stdout",
     "output_type": "stream",
     "text": [
      "Square root: [1.         1.41421356 1.73205081 2.        ]\n",
      "Exponential: [ 2.71828183  7.3890561  20.08553692 54.59815003]\n",
      "Sine: [ 0.84147098  0.90929743  0.14112001 -0.7568025 ]\n"
     ]
    }
   ],
   "source": [
    "## Code snippet 1.2.1.5\n",
    "\n",
    "array = np.array([1, 2, 3, 4])\n",
    "\n",
    "print(\"Square root:\", np.sqrt(array))\n",
    "print(\"Exponential:\", np.exp(array))\n",
    "print(\"Sine:\", np.sin(array))\n"
   ]
  },
  {
   "cell_type": "markdown",
   "metadata": {},
   "source": [
    "*  `np.sqrt(array)` : \n",
    "\n",
    "    - $[\\sqrt{1} \\;\\;\\sqrt{2} \\;\\; \\sqrt{3} \\;\\;\\;\\sqrt{4}] =\n",
    "  \\texttt{[1.         1.41421356 1.73205081 2.]}$\n",
    "\n",
    "*  `np.exp(array)` :\n",
    "\n",
    "    - $[e^{1}\\;\\; e^{2}\\;\\; e^{3}\\;\\; e^{4}] = \n",
    "  \\texttt{[ 2.71828183  7.3890561  20.08553692 54.59815003]}$\n",
    "\n",
    "*  `np.sin(array)` :\n",
    "\n",
    "    - $[\\sin(1) \\;\\; \\sin(2) \\;\\; \\sin(3) \\;\\; \\sin(4)] = \n",
    "    \\texttt{[ 0.84147098  0.90929743  0.14112001 -0.7568025 ]}$"
   ]
  },
  {
   "cell_type": "markdown",
   "metadata": {},
   "source": [
    "---\n",
    "## 1.2.1.6 Basic Statistical Operations in NumPy\n",
    "---\n",
    "\n",
    "`NumPy` also provides a range of statistical functions that are very useful for data analysis. \n",
    "\n",
    "You can calculate the `mean`, `median`, `standard deviation`, and `sum` of array elements efficiently. \n",
    "\n",
    "These functions help in understanding the data distribution and variability. Let’s see some examples.\n"
   ]
  },
  {
   "cell_type": "code",
   "execution_count": 37,
   "metadata": {},
   "outputs": [
    {
     "name": "stdout",
     "output_type": "stream",
     "text": [
      "Mean: 3.0\n",
      "Median: 3.0\n",
      "Standard Deviation: 1.4142135623730951\n",
      "Sum: 15\n"
     ]
    }
   ],
   "source": [
    "## Code snippet 1.2.16\n",
    "\n",
    "array = np.array([1, 2, 3, 4, 5])\n",
    "\n",
    "print(\"Mean:\", np.mean(array))\n",
    "print(\"Median:\", np.median(array))\n",
    "print(\"Standard Deviation:\", np.std(array))\n",
    "print(\"Sum:\", np.sum(array))"
   ]
  },
  {
   "cell_type": "markdown",
   "metadata": {},
   "source": [
    "---\n",
    "##  Summary\n",
    "---\n",
    "\n",
    "This lecture introduces the basics of NumPy, including \n",
    "\n",
    "*  creating arrays, \n",
    "*  understanding array attributes, \n",
    "*  indexing and slicing arrays, \n",
    "*  performing array operations, \n",
    "*  using universal functions, and\n",
    "*  conducting basic statistical operations.\n",
    "\n",
    "These fundamental concepts are essential for effective scientific computing and data analysis in Python.\n"
   ]
  }
 ],
 "metadata": {
  "kernelspec": {
   "display_name": "Python 3",
   "language": "python",
   "name": "python3"
  },
  "language_info": {
   "codemirror_mode": {
    "name": "ipython",
    "version": 3
   },
   "file_extension": ".py",
   "mimetype": "text/x-python",
   "name": "python",
   "nbconvert_exporter": "python",
   "pygments_lexer": "ipython3",
   "version": "3.12.2"
  }
 },
 "nbformat": 4,
 "nbformat_minor": 2
}
