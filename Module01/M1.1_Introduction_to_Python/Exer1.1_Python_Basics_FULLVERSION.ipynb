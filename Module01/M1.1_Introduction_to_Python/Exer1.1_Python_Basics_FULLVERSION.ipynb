{
 "cells": [
  {
   "cell_type": "markdown",
   "metadata": {},
   "source": [
    "## Module 1: Exercises 1 Python Basics "
   ]
  },
  {
   "cell_type": "markdown",
   "metadata": {},
   "source": [
    "---\n",
    "\n",
    "### Exercise 1.1: Your first Python code\n",
    "\n",
    "---\n",
    "\n",
    "It's time to run your first Python code!\n",
    "\n",
    "Head to the code and hit the run code button to see the output.\n",
    "\n",
    "#### Instructions 1.1\n",
    "\n",
    "*  Hit the run code button to see the output of `print(5 / 8)`.\n",
    "\n"
   ]
  },
  {
   "cell_type": "code",
   "execution_count": 1,
   "metadata": {},
   "outputs": [
    {
     "name": "stdout",
     "output_type": "stream",
     "text": [
      "0.625\n",
      "17\n"
     ]
    }
   ],
   "source": [
    "#### code.py 1.1\n",
    "\n",
    "# Example, do not modify!\n",
    "print(5 / 8)\n",
    "\n",
    "# Put code below here\n",
    "print(7+10)\n"
   ]
  },
  {
   "cell_type": "markdown",
   "metadata": {},
   "source": [
    "---\n",
    "### Exercise 1.2: Any comments?\n",
    "\n",
    "---\n",
    "\n",
    "You can also add **comments* to your Python scripts. Comments are important to make sure that you and others can understand what your code is about and do not run as Python code.\n",
    "\n",
    "They start with `#` tag. See the comment in the editor, `# Division`; now it's your turn to add a comment!\n",
    "\n",
    "#### Instructions 1.2\n",
    "\n",
    "* Replace `____` with the comment `# Addition`"
   ]
  },
  {
   "cell_type": "code",
   "execution_count": 3,
   "metadata": {},
   "outputs": [
    {
     "name": "stdout",
     "output_type": "stream",
     "text": [
      "0.625\n",
      "17\n"
     ]
    }
   ],
   "source": [
    "#### code.py 1.2\n",
    "\n",
    "# Division\n",
    "print(5 / 8)\n",
    "\n",
    "# Addition\n",
    "print(7 + 10)\n",
    "\n"
   ]
  },
  {
   "cell_type": "markdown",
   "metadata": {},
   "source": [
    "---\n",
    "### Exercise 1.3: Python as calculator\n",
    "\n",
    "---\n",
    "\n",
    "Python is perfectly suited to do basic calculations. It can do addition, subtraction, multiplication and division.\n",
    "\n",
    "The code in the script gives some examples.\n",
    "\n",
    "Now it's your turn to practice!\n",
    "\n",
    "#### Instructions 1.3\n",
    "\n",
    "*  Print the sum of `4 + 5`.\n",
    "\n",
    "*  Print the result of subtracting `5` from `5`.\n",
    "\n",
    "*  Print the result of multiplying `3` by `5`.\n",
    "\n",
    "*  Print the result of dividing `10` by `2`.\n"
   ]
  },
  {
   "cell_type": "code",
   "execution_count": null,
   "metadata": {},
   "outputs": [],
   "source": [
    "#### code.py 1.3\n",
    "\n",
    "# Addition and subtraction\n",
    "print(5 + 5)\n",
    "print(5 - 5)\n",
    "\n",
    "# Multiplication and division\n",
    "print(3 * 5)\n",
    "print(10 / 2)\n",
    "\n",
    "# Exponentiation\n",
    "print(4 ** 2)\n",
    "\n",
    "# Modulo\n",
    "print(18 % 7)\n",
    "\n",
    "# How much is your $100 worth after 7 years?\n",
    "print(100*(1.1)**7)"
   ]
  },
  {
   "cell_type": "markdown",
   "metadata": {},
   "source": [
    "---\n",
    "### Exercise 1.4: Variable Assignment\n",
    "\n",
    "---\n",
    "\n",
    "In Python, a variable allows you to refer to a value with a name. To create a variable `x` with a value of `5`, you use `=`, like this example:\n",
    "\n",
    "```\n",
    "x = 5\n",
    "```\n",
    "\n",
    "You can now use the name of this variable, `x`, instead of the actual value, `5`.\n",
    "\n",
    "Remember, `=` in Python means *assignment*, it doesn't test equality! Try it in the exercise by replacing `____` with your code.\n",
    "\n",
    "#### Instructions 1.4\n",
    "\n",
    "*  Create a variable `savings` with the value of `100`.\n",
    "\n",
    "*  Check out this variable by typing `print(savings)` in the **code.py**.\n"
   ]
  },
  {
   "cell_type": "code",
   "execution_count": 4,
   "metadata": {},
   "outputs": [
    {
     "name": "stdout",
     "output_type": "stream",
     "text": [
      "100\n"
     ]
    }
   ],
   "source": [
    "#### code.py 1.4\n",
    "# Create a variable savings\n",
    "savings = 100\n",
    "\n",
    "# Print out savings\n",
    "print(savings)\n",
    "\n"
   ]
  },
  {
   "cell_type": "markdown",
   "metadata": {},
   "source": [
    "---\n",
    "### Exercise 1.5: Calculations with variables\n",
    "\n",
    "---\n",
    "\n",
    "You've now created a `savings` variable, so let's start saving!\n",
    "\n",
    "Instead of calculating with the actual values, you can use variables instead.\n",
    "\n",
    "How much money would you have saved four months from now, if you saved `$10` each month?\n",
    "\n",
    "#### Instructions 1.5\n",
    "\n",
    "*  Create a variable `monthly_savings`, equal to `10` and `num_months`, equal to `4`.\n",
    "\n",
    "*  Multiply `monthly_savings` by `num_months` and assign it to `new_savings`.\n",
    "\n",
    "*  Print the value of `new_savings`.\n",
    "\n",
    "\n",
    "\n"
   ]
  },
  {
   "cell_type": "code",
   "execution_count": 5,
   "metadata": {},
   "outputs": [
    {
     "name": "stdout",
     "output_type": "stream",
     "text": [
      "40\n"
     ]
    }
   ],
   "source": [
    "#### code.py 1.5\n",
    "# Create a variable monthly_savings and num_months\n",
    "monthly_savings = 10\n",
    "num_months = 4\n",
    "\n",
    "\n",
    "# Multiply monthly_savings and num_months\n",
    "new_savings = monthly_savings * num_months\n",
    "\n",
    "# Print new_savings\n",
    "print(new_savings)\n",
    "\n"
   ]
  },
  {
   "cell_type": "markdown",
   "metadata": {},
   "source": [
    "###  Exercise 1.6 Other variable types\n",
    "\n",
    "In the previous exercise, you worked with the integer Python data type:\n",
    "\n",
    "*  `int`, or integer: a number without a fractional part. `savings`, with the value `100`, is an example of an integer.\n",
    "\n",
    "Next to numerical data types, there are three other very common data types:\n",
    "\n",
    "*  `float`, or floating point: a number that has both an integer and fractional part, separated by a point. `1.1`, is an example of a float.\n",
    "\n",
    "*  `str`, or string: a type to represent text. You can use single or double quotes to build a string.\n",
    "\n",
    "*  `bool`, or boolean: a type to represent logical values. It can only be `True` or `False` (the capitalization is important!).\n",
    "\n",
    "#### Instructions 1.6\n",
    "\n",
    "*  Create a new float, `half`, with the value `0.5`.\n",
    "\n",
    "*  Create a new string, `intro`, with the value `\"Hello! How are you?\"`\n",
    "\n",
    "*  Create a new boolean, `is_good`, with the value `True`."
   ]
  },
  {
   "cell_type": "code",
   "execution_count": 6,
   "metadata": {},
   "outputs": [],
   "source": [
    "#### code.py 1.6\n",
    "\n",
    "# Create a variable half\n",
    "half = 0.5\n",
    "\n",
    "\n",
    "# Create a variable intro\n",
    "intro = \"Hello! How are you?\"\n",
    "\n",
    "# Create a variable is_good\n",
    "is_good = True"
   ]
  },
  {
   "cell_type": "markdown",
   "metadata": {},
   "source": [
    "### Exercise 1.7: Operations with other types\n",
    "\n",
    "Variables come in different types in Python. You can see the type of a variable by using `type()`. For example, to see type of `a`, execute: `type(a)`.\n",
    "\n",
    "Different types behave differently in Python. When you sum two strings, for example, you'll get different behavior than when you sum two integers or two booleans.\n",
    "\n",
    "Time for you to test this out.\n",
    "\n",
    "#### Instructions 1.7a\n",
    "\n",
    "*  Add `savings` and `new_savings` and assign it to `total_savings`.\n",
    "\n",
    "* Use `type()` to print the resulting type of `total_savings`.\n"
   ]
  },
  {
   "cell_type": "code",
   "execution_count": null,
   "metadata": {},
   "outputs": [],
   "source": [
    "#### code.py 1.7\n",
    "savings = 100\n",
    "new_savings = 40\n",
    "\n",
    "# Calculate total_savings using savings and new_savings\n",
    "total_savings = savings + new_savings\n",
    "print(total_savings)\n",
    "\n",
    "# Print the type of total_savings\n",
    "print(type(total_savings))"
   ]
  },
  {
   "cell_type": "markdown",
   "metadata": {},
   "source": [
    "#### Instructions 1.7b\n",
    "\n",
    "*  Calculate the sum of `intro` and `intro` and assign the result to `doubleintro`.\n",
    "\n",
    "*  Print out `doubleintro`. Did you expect this?\n"
   ]
  },
  {
   "cell_type": "code",
   "execution_count": 7,
   "metadata": {},
   "outputs": [
    {
     "name": "stdout",
     "output_type": "stream",
     "text": [
      "Hello! How are you?Hello! How are you?\n"
     ]
    }
   ],
   "source": [
    "#### code.py 1.7b\n",
    "\n",
    "intro = \"Hello! How are you?\"\n",
    "\n",
    "# Assign sum of intro and intro to doubleintro\n",
    "doubleintro = intro + intro\n",
    "\n",
    "# Print out doubleintro\n",
    "print(doubleintro)"
   ]
  }
 ],
 "metadata": {
  "kernelspec": {
   "display_name": "Python 3",
   "language": "python",
   "name": "python3"
  },
  "language_info": {
   "codemirror_mode": {
    "name": "ipython",
    "version": 3
   },
   "file_extension": ".py",
   "mimetype": "text/x-python",
   "name": "python",
   "nbconvert_exporter": "python",
   "pygments_lexer": "ipython3",
   "version": "3.12.2"
  }
 },
 "nbformat": 4,
 "nbformat_minor": 2
}
