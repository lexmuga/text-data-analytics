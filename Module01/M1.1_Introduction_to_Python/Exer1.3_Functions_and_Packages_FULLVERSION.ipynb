{
 "cells": [
  {
   "cell_type": "markdown",
   "metadata": {},
   "source": [
    "## Module 1: Exercises 3 Functions and Packages"
   ]
  },
  {
   "cell_type": "markdown",
   "metadata": {},
   "source": [
    "---\n",
    "###  Exercise 3.1: Familiar functions\n",
    "---\n",
    "\n",
    "Out of the box, Python offers a bunch of built-in functions to make your life as a data scientist easier. \n",
    "\n",
    "You already know two such functions: `print()` and `type()`. \n",
    "\n",
    "There are also functions like `str()`, `int()`, `bool()` and `float()` to switch between data types. These are built-in functions as well.\n",
    "\n",
    "Calling a function is easy. \n",
    "\n",
    "To get the type of `3.0` and store the output as a new variable, `result`, you can use the following:\n",
    "\n",
    "```\n",
    "result = type(3.0)\n",
    "```\n",
    "\n",
    "#### Instructions 3.1\n",
    "\n",
    "*  Use `print()` in combination with `type()` to print out the type of `var1`.\n",
    "\n",
    "*  Use `len()` to get the length of the list `var1`. Wrap it in a `print()` call to directly print it out.\n",
    "\n",
    "*  Use `int()` to convert `var2` to an integer. Store the output as `out2`.\n"
   ]
  },
  {
   "cell_type": "code",
   "execution_count": null,
   "metadata": {},
   "outputs": [],
   "source": [
    "#### code.py 3.1\n",
    "\n",
    "# Create variables var1 and var2\n",
    "var1 = [1, 2, 3, 4]\n",
    "var2 = True\n",
    "\n",
    "# Print out type of var1\n",
    "print(type(var1))\n",
    "\n",
    "# Print out length of var1\n",
    "print(len(var1))\n",
    "\n",
    "# Convert var2 to an integer: out2\n",
    "out2 = int(var2)\n",
    "\n"
   ]
  },
  {
   "cell_type": "markdown",
   "metadata": {},
   "source": [
    "---\n",
    "### Exercise 3.2: Help!\n",
    "---\n",
    "\n",
    "Maybe you already know the name of a Python function, but you still have to figure out how to use it. \n",
    "\n",
    "Ironically, you have to ask for information about a function with another function: \n",
    "`help()`. In IPython specifically, you can also use `?` before the function name.\n",
    "\n",
    "\n",
    "To get help on the `max()` function, for example, you can use one of these calls:\n",
    "\n",
    "```\n",
    "help(max)\n",
    "?max\n",
    "```\n",
    "\n",
    "Use the IPython Shell to open up the documentation on `pow()`. \n",
    "\n",
    "Do this by typing `?pow` or `help(pow)` and hitting Enter.\n",
    "\n",
    "Which of the following statements is true?\n",
    "\n",
    "#### Instructions 3.2\n",
    "\n",
    "**Possible answers**\n",
    "\n",
    "$\\bigotimes$   `pow()` takes three arguments: `base`, `exp`, and `mod`. Without `mod`, the function will return an error.\n",
    "\n",
    "$\\bigotimes$    `pow()` takes three required arguments: `base`, `exp`, and `None`.\n",
    "\n",
    "$\\large\\checkmark$ `pow()` requires `base` and `exp` arguments; `mod` is optional.\n",
    "\n",
    "$\\bigotimes$  `pow()` takes two arguments: `exp` and `mod`. Missing `exp` results in an error."
   ]
  },
  {
   "cell_type": "markdown",
   "metadata": {},
   "source": [
    "---\n",
    "### Exercise 3.3:  Multiple arguments\n",
    "---\n",
    "\n",
    "\n",
    "In the previous exercise, you identified optional arguments by viewing the documentation with `help()`. You'll now apply this to change the behavior of the `sorted()` function.\n",
    "\n",
    "Have a look at the documentation of `sorted()` by typing `help(sorted)` in the IPython Shell.\n",
    "\n",
    "You'll see that `sorted()` takes three arguments: `iterable`, `key`, and `reverse`. In this exercise, you'll only have to specify `iterable` and `reverse`, not `key`.\n",
    "\n",
    "\n",
    "#### Instructions 3.3\n",
    "\n",
    "*  Use `+` to merge the contents of first and second into a new list: `full`.\n",
    "\n",
    "*  Call sorted()` and on `full` and specify the reverse argument to be `True`. Save the sorted list as `full_sorted`.\n",
    "\n",
    "*  Finish off by printing out `full_sorted`."
   ]
  },
  {
   "cell_type": "code",
   "execution_count": 1,
   "metadata": {},
   "outputs": [
    {
     "name": "stdout",
     "output_type": "stream",
     "text": [
      "[20.0, 18.0, 11.25, 10.75, 9.5]\n"
     ]
    }
   ],
   "source": [
    "# Create lists first and second\n",
    "first = [11.25, 18.0, 20.0]\n",
    "second = [10.75, 9.50]\n",
    "\n",
    "# Paste together first and second: full\n",
    "full = first + second\n",
    "\n",
    "# Sort full in descending order: full_sorted\n",
    "full_sorted = sorted(full, reverse = True)\n",
    "\n",
    "# Print out full_sorted\n",
    "print(full_sorted)"
   ]
  },
  {
   "cell_type": "markdown",
   "metadata": {},
   "source": [
    "---\n",
    "### Exercise 3.4 String Methods\n",
    "---\n",
    "\n",
    "Strings come with a bunch of methods. \n",
    "\n",
    "Follow the instructions closely to discover some of them. \n",
    "\n",
    "If you want to discover them in more detail, you can always type `help(str)` in the IPython Shell.\n",
    "\n",
    "A string place has already been created for you to experiment with.\n",
    "\n",
    "\n",
    "#### Instructions 3.4\n",
    "\n",
    "*  Use the `.upper()` method on place and store the result in `place_up`. Use the syntax for calling methods that you learned in the previous video.\n",
    "\n",
    "*  Print out `place` and `place_up`. Did both change?\n",
    "\n",
    "*  Print out the number of o's on the variable `place` by calling `.count()` on `place`\n",
    "   and passing the letter `o` as an input to the method. We're talking about the variable `place`, not the word `\"place\"`!\n"
   ]
  },
  {
   "cell_type": "code",
   "execution_count": 4,
   "metadata": {},
   "outputs": [
    {
     "name": "stdout",
     "output_type": "stream",
     "text": [
      "poolhouse\n",
      "POOLHOUSE\n",
      "3\n"
     ]
    }
   ],
   "source": [
    "### code.py 3.4\n",
    "\n",
    "# string to experiment with: place\n",
    "place = \"poolhouse\"\n",
    "\n",
    "# Use upper() on room: room_up\n",
    "place_up = place.upper()\n",
    "\n",
    "# Print out room and room_up\n",
    "print(place)\n",
    "print(place_up)\n",
    "\n",
    "# Print out the number of o's in room\n",
    "\n",
    "print(place.count(\"o\"))"
   ]
  },
  {
   "cell_type": "markdown",
   "metadata": {},
   "source": [
    "---\n",
    "### Exercise 3.5: List Methods \n",
    "---\n",
    "\n",
    "Strings are not the only Python types that have methods associated with them. \n",
    "\n",
    "Lists, floats, integers and booleans are also types that come packaged with a bunch of useful methods. \n",
    "\n",
    "In this exercise, you'll be experimenting with:\n",
    "\n",
    "*  `.index()`, to get the index of the first element of a list that matches its input and\n",
    "\n",
    "*  `.count()`, to get the number of times an element appears in a list.\n",
    "\n",
    "You'll be working on the list with the area of different parts of a house: `areas`.\n",
    "\n",
    "#### Instructions 3.5\n",
    "\n",
    "*  Use the `.index()` method to get the index of the element in `areas` that is equal to `20.0`. Print out this index.\n",
    "\n",
    "*  Call `.count()` on `areas` to find out how many times `9.50` appears in the list. Again, simply print out this number.\n"
   ]
  },
  {
   "cell_type": "code",
   "execution_count": 7,
   "metadata": {},
   "outputs": [
    {
     "name": "stdout",
     "output_type": "stream",
     "text": [
      "2\n",
      "1\n"
     ]
    }
   ],
   "source": [
    "### code.py 3.5\n",
    "\n",
    "# Create list areas\n",
    "areas = [11.25, 18.0, 20.0, 10.75, 9.50]\n",
    "\n",
    "# Print out the index of the element 20.0\n",
    "print(areas.index(20.0))\n",
    "\n",
    "# Print out how often 9.50 appears in areas\n",
    "print(areas.count(9.50))\n"
   ]
  },
  {
   "cell_type": "markdown",
   "metadata": {},
   "source": [
    "---\n",
    "### Exercise 3.6 List Methods (2)\n",
    "---\n",
    "\n",
    "Most list methods will change the list they're called on. Examples are:\n",
    "\n",
    "*  `.append()`, that adds an element to the list it is called on,\n",
    "\n",
    "*  `.remove()`, that removes the first element of a list that matches the input, and\n",
    "\n",
    "*  `.reverse()`, that reverses the order of the elements in the list it is called on.\n",
    "\n",
    "You'll be working on the list with the area of different parts of the house: `areas`.\n",
    "\n",
    "\n",
    "#### Instructions 3.6\n",
    "\n",
    "*  Use `.append()` twice to add the size of the poolhouse and the garage again: `24.5` and `15.45`, respectively. Make sure to add them in this order.\n",
    "\n",
    "*  Print out `areas`.\n",
    "\n",
    "*  Use the `.reverse()` method to reverse the order of the elements in `areas`.\n",
    "\n",
    "*  Print out `areas` once more.\n",
    "\n",
    "\n"
   ]
  },
  {
   "cell_type": "code",
   "execution_count": 8,
   "metadata": {},
   "outputs": [
    {
     "name": "stdout",
     "output_type": "stream",
     "text": [
      "[11.25, 18.0, 20.0, 10.75, 9.5, 24.5, 15.45]\n",
      "[15.45, 24.5, 9.5, 10.75, 20.0, 18.0, 11.25]\n"
     ]
    }
   ],
   "source": [
    "### code.py 3.6\n",
    "\n",
    "# Create list areas\n",
    "areas = [11.25, 18.0, 20.0, 10.75, 9.50]\n",
    "\n",
    "# Use append twice to add poolhouse and garage size\n",
    "areas.append(24.5)\n",
    "areas.append(15.45)\n",
    "\n",
    "\n",
    "# Print out areas\n",
    "print(areas)\n",
    "\n",
    "# Reverse the orders of the elements in areas\n",
    "areas.reverse()\n",
    "\n",
    "# Print out areas\n",
    "print(areas)"
   ]
  },
  {
   "cell_type": "markdown",
   "metadata": {},
   "source": [
    "---\n",
    "### Exercise 3.7: Import packages\n",
    "---\n",
    "\n",
    "Let's say you wanted to calculate the circumference and area of a circle. Here's what those formulas look like:\n",
    "\n",
    "$$C=2\\pi{r}$$\n",
    "$$A=\\pi{r^2}$$\n",
    "\n",
    "Rather than typing the number for `pi`, you can use the `math` package that contains the number.\n",
    "\n",
    "For reference, `**` is the symbol for exponentiation. \n",
    "\n",
    "For example `3**4` is `3` to the power of `4` and will give `81`.\n",
    "\n",
    "#### Instructions 3.7\n",
    "\n",
    "*  Import the `math` package.\n",
    "\n",
    "*  Use `math.pi` to calculate the circumference of the circle and store it in `C`.\n",
    "\n",
    "*  Use `math.pi` to calculate the area of the circle and store it in `A`.\n",
    "\n"
   ]
  },
  {
   "cell_type": "code",
   "execution_count": 9,
   "metadata": {},
   "outputs": [
    {
     "name": "stdout",
     "output_type": "stream",
     "text": [
      "Circumference: 2.701769682087222\n",
      "Area: 0.5808804816487527\n"
     ]
    }
   ],
   "source": [
    "### code.py 3.7\n",
    "\n",
    "# Definition of radius\n",
    "r = 0.43\n",
    "\n",
    "# Import the math package\n",
    "import math\n",
    "\n",
    "# Calculate C\n",
    "C = 2 * r * math.pi\n",
    "\n",
    "# Calculate A\n",
    "A = math.pi * r ** 2\n",
    "\n",
    "# Build printout\n",
    "print(\"Circumference: \" + str(C))\n",
    "print(\"Area: \" + str(A))\n",
    "\n"
   ]
  },
  {
   "cell_type": "markdown",
   "metadata": {},
   "source": [
    "---\n",
    "### Exercise 3.8:  Selective import\n",
    "---\n",
    "\n",
    "General imports, like `import math`, make all functionality from the `math` package available to you. \n",
    "\n",
    "However, if you decide to only use a specific part of a package, you can always make your import more selective:\n",
    "\n",
    "```\n",
    "from math import pi\n",
    "```\n",
    "\n",
    "Try the same thing again, but this time only use `pi`.\n",
    "\n",
    "\n",
    "#### Instructions 3.8\n",
    "\n",
    "*  Perform a selective import from the `math` package where you only import the `pi` function.\n",
    "\n",
    "*  Use `math.pi` to calculate the circumference of the circle and store it in `C`.\n",
    "\n",
    "*  Use `math.pi` to calculate the area of the circle and store it in A.\n",
    "\n",
    "\n"
   ]
  },
  {
   "cell_type": "code",
   "execution_count": 10,
   "metadata": {},
   "outputs": [
    {
     "name": "stdout",
     "output_type": "stream",
     "text": [
      "Circumference: 2.701769682087222\n",
      "Area: 0.5808804816487527\n"
     ]
    }
   ],
   "source": [
    "# Import pi function of math package\n",
    "from math import pi\n",
    "\n",
    "# Calculate C\n",
    "C = 2 * 0.43 * pi\n",
    "\n",
    "# Calculate A\n",
    "A = pi * 0.43 ** 2\n",
    "\n",
    "print(\"Circumference: \" + str(C))\n",
    "print(\"Area: \" + str(A))"
   ]
  },
  {
   "cell_type": "markdown",
   "metadata": {},
   "source": [
    "---\n",
    "### Exercise 3.9: Different ways of importing\n",
    "---\n",
    "\n",
    "There are several ways to import packages and modules into Python. Depending on the import call, you'll have to use different Python code.\n",
    "\n",
    "Suppose you want to use the function `inv()`, which is in the `linalg` subpackage of the `scipy` package. You want to be able to use this function as follows:\n",
    "\n",
    "```\n",
    "my_inv([[1,2], [3,4]])\n",
    "```\n",
    "\n",
    "Which import statement will you need in order to run the above code without an error?\n",
    "\n",
    "#### Instructions 3.9\n",
    "\n",
    "**Possible answers**\n",
    "\n",
    "$\\bigotimes$  `import scipy`\n",
    "\n",
    "$\\bigotimes$  `import scipy.linalg`\n",
    "\n",
    "$\\bigotimes$  `from scipy.linalg import my_inv`\n",
    "\n",
    "$\\large\\checkmark$  `import scipy.linalg import inv as my_inv`\n",
    "\n",
    "\n",
    "\n",
    "\n",
    "\n",
    "\n"
   ]
  }
 ],
 "metadata": {
  "kernelspec": {
   "display_name": "Python 3",
   "language": "python",
   "name": "python3"
  },
  "language_info": {
   "codemirror_mode": {
    "name": "ipython",
    "version": 3
   },
   "file_extension": ".py",
   "mimetype": "text/x-python",
   "name": "python",
   "nbconvert_exporter": "python",
   "pygments_lexer": "ipython3",
   "version": "3.12.2"
  }
 },
 "nbformat": 4,
 "nbformat_minor": 2
}
