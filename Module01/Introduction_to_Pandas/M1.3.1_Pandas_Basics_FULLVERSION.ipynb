{
 "cells": [
  {
   "cell_type": "markdown",
   "metadata": {},
   "source": [
    "#  1.3.1 Pandas Basics\n",
    "\n",
    "Welcome to our introduction to `Pandas`. \n",
    "\n",
    "`Pandas` is an essential library in Python for data manipulation and analysis. \n",
    "\n",
    "It builds on `NumPy` to provide high-level data structures and tools. \n",
    "\n",
    "If you’re involved in data science, `Pandas` is crucial for cleaning, preparing, and exploring your data."
   ]
  },
  {
   "cell_type": "markdown",
   "metadata": {},
   "source": [
    "---\n",
    "## 1.3.1.1 Pandas Series\n",
    "---\n",
    "\n",
    "Let’s start with the *Pandas Series*. \n",
    "\n",
    "A *Series* is a one-dimensional array-like object that can hold various data types, such as integers, strings, or floats. \n",
    "\n",
    "It’s quite similar to a *list* or a *single column* in a table. \n",
    "\n",
    "We’ll create a simple *Series* from a list of integers.\n"
   ]
  },
  {
   "cell_type": "code",
   "execution_count": 1,
   "metadata": {},
   "outputs": [
    {
     "name": "stdout",
     "output_type": "stream",
     "text": [
      "0    10\n",
      "1    20\n",
      "2    30\n",
      "3    40\n",
      "4    50\n",
      "dtype: int64\n"
     ]
    }
   ],
   "source": [
    "## Code snippet 1.3.1.1(a)\n",
    "\n",
    "import pandas as pd\n",
    "\n",
    "# Creating a Series\n",
    "data = [10, 20, 30, 40, 50]\n",
    "series = pd.Series(data)\n",
    "print(series)"
   ]
  },
  {
   "cell_type": "code",
   "execution_count": 5,
   "metadata": {},
   "outputs": [
    {
     "name": "stdout",
     "output_type": "stream",
     "text": [
      "blue      52\n",
      "red       33\n",
      "green     30\n",
      "yellow    25\n",
      "black      2\n",
      "Name: count, dtype: int64\n"
     ]
    }
   ],
   "source": [
    "## Code snippet 1.3.1.1(b)\n",
    "## Determine the frequency for each color in the list\n",
    "col2007 = ['red',\n",
    " 'green',\n",
    " 'blue',\n",
    " 'blue',\n",
    " 'yellow',\n",
    " 'black',\n",
    " 'green',\n",
    " 'red',\n",
    " 'red',\n",
    " 'green',\n",
    " 'blue',\n",
    " 'yellow',\n",
    " 'green',\n",
    " 'blue',\n",
    " 'yellow',\n",
    " 'green',\n",
    " 'blue',\n",
    " 'blue',\n",
    " 'red',\n",
    " 'blue',\n",
    " 'yellow',\n",
    " 'blue',\n",
    " 'blue',\n",
    " 'yellow',\n",
    " 'red',\n",
    " 'yellow',\n",
    " 'blue',\n",
    " 'blue',\n",
    " 'blue',\n",
    " 'yellow',\n",
    " 'blue',\n",
    " 'green',\n",
    " 'yellow',\n",
    " 'green',\n",
    " 'green',\n",
    " 'blue',\n",
    " 'yellow',\n",
    " 'yellow',\n",
    " 'blue',\n",
    " 'yellow',\n",
    " 'blue',\n",
    " 'blue',\n",
    " 'blue',\n",
    " 'green',\n",
    " 'green',\n",
    " 'blue',\n",
    " 'blue',\n",
    " 'green',\n",
    " 'blue',\n",
    " 'green',\n",
    " 'yellow',\n",
    " 'blue',\n",
    " 'blue',\n",
    " 'yellow',\n",
    " 'yellow',\n",
    " 'red',\n",
    " 'green',\n",
    " 'green',\n",
    " 'red',\n",
    " 'red',\n",
    " 'red',\n",
    " 'red',\n",
    " 'green',\n",
    " 'red',\n",
    " 'green',\n",
    " 'yellow',\n",
    " 'red',\n",
    " 'red',\n",
    " 'blue',\n",
    " 'red',\n",
    " 'red',\n",
    " 'red',\n",
    " 'red',\n",
    " 'blue',\n",
    " 'blue',\n",
    " 'blue',\n",
    " 'blue',\n",
    " 'blue',\n",
    " 'red',\n",
    " 'blue',\n",
    " 'blue',\n",
    " 'blue',\n",
    " 'yellow',\n",
    " 'red',\n",
    " 'green',\n",
    " 'blue',\n",
    " 'blue',\n",
    " 'red',\n",
    " 'blue',\n",
    " 'red',\n",
    " 'green',\n",
    " 'black',\n",
    " 'yellow',\n",
    " 'blue',\n",
    " 'blue',\n",
    " 'green',\n",
    " 'red',\n",
    " 'red',\n",
    " 'yellow',\n",
    " 'yellow',\n",
    " 'yellow',\n",
    " 'red',\n",
    " 'green',\n",
    " 'green',\n",
    " 'yellow',\n",
    " 'blue',\n",
    " 'green',\n",
    " 'blue',\n",
    " 'blue',\n",
    " 'red',\n",
    " 'blue',\n",
    " 'green',\n",
    " 'blue',\n",
    " 'red',\n",
    " 'green',\n",
    " 'green',\n",
    " 'blue',\n",
    " 'blue',\n",
    " 'green',\n",
    " 'red',\n",
    " 'blue',\n",
    " 'blue',\n",
    " 'green',\n",
    " 'green',\n",
    " 'red',\n",
    " 'red',\n",
    " 'blue',\n",
    " 'red',\n",
    " 'blue',\n",
    " 'yellow',\n",
    " 'blue',\n",
    " 'green',\n",
    " 'blue',\n",
    " 'green',\n",
    " 'yellow',\n",
    " 'yellow',\n",
    " 'yellow',\n",
    " 'red',\n",
    " 'red',\n",
    " 'red',\n",
    " 'blue',\n",
    " 'blue']\n",
    "\n",
    "col2007_series = pd.Series(col2007)\n",
    "counts = col2007_series.value_counts()\n",
    "print(counts)"
   ]
  },
  {
   "cell_type": "markdown",
   "metadata": {},
   "source": [
    "---\n",
    "## 1.3.1.2  Pandas DataFrame\n",
    "---\n",
    "\n",
    "Next, we have the *Pandas DataFrame*. \n",
    "\n",
    "A *DataFrame* is a two-dimensional table-like structure that can store data of different types. \n",
    "\n",
    "It’s mutable in size, meaning you can add or remove data easily. \n",
    "\n",
    "Think of it as a table in a database or an Excel spreadsheet. Here’s how to create a DataFrame from a dictionary.\n"
   ]
  },
  {
   "cell_type": "code",
   "execution_count": 8,
   "metadata": {},
   "outputs": [
    {
     "name": "stdout",
     "output_type": "stream",
     "text": [
      "      Name  Age         City\n",
      "0    Alice   24     New York\n",
      "1      Bob   27  Los Angeles\n",
      "2  Charlie   22      Chicago\n",
      "3    David   32      Houston\n",
      "4      Eve   29      Phoenix\n"
     ]
    }
   ],
   "source": [
    "## Code snippet 1.3.1.2\n",
    "\n",
    "data = {\n",
    "    'Name': ['Alice', 'Bob', 'Charlie', 'David', 'Eve'],\n",
    "    'Age': [24, 27, 22, 32, 29],\n",
    "    'City': ['New York', 'Los Angeles', 'Chicago', 'Houston', 'Phoenix']\n",
    "}\n",
    "\n",
    "#  Creatting a DataFrame from a dictionary \n",
    "df = pd.DataFrame(data)\n",
    "print(df)"
   ]
  },
  {
   "cell_type": "markdown",
   "metadata": {},
   "source": [
    "---\n",
    "1.3.1.3 DataFrame from Dictionary\n",
    "---\n",
    "\n",
    "Creating DataFrames from dictionaries is very straightforward in Pandas. \n",
    "\n",
    "Each *key* in the dictionary becomes a *column* in the DataFrame, and each *value* becomes the *data* for that column. \n",
    "\n",
    "Let’s look at an example with a simple dictionary.\n"
   ]
  },
  {
   "cell_type": "code",
   "execution_count": 9,
   "metadata": {},
   "outputs": [
    {
     "name": "stdout",
     "output_type": "stream",
     "text": [
      "   A  B  C\n",
      "0  1  4  7\n",
      "1  2  5  8\n",
      "2  3  6  9\n"
     ]
    }
   ],
   "source": [
    "## Code snippet 1.3.1.3\n",
    "\n",
    "# Creating a DataFrame from a dictionary\n",
    "data = {\n",
    "    'A': [1, 2, 3],\n",
    "    'B': [4, 5, 6],\n",
    "    'C': [7, 8, 9]\n",
    "}\n",
    "df = pd.DataFrame(data)\n",
    "print(df)"
   ]
  },
  {
   "cell_type": "markdown",
   "metadata": {},
   "source": [
    "---\n",
    "1.3.1.4  DataFrame from CSV\n",
    "---\n",
    "\n",
    "One of the powerful features of P*andas* is its ability to read data from external files like *CSV*s. \n",
    "\n",
    "The `read_csv()` function makes it easy to load data from a *CSV* file into a *DataFrame*. \n",
    "\n",
    "Let’s see how this works."
   ]
  },
  {
   "cell_type": "code",
   "execution_count": 46,
   "metadata": {},
   "outputs": [
    {
     "name": "stdout",
     "output_type": "stream",
     "text": [
      "<class 'pandas.core.frame.DataFrame'>\n",
      "RangeIndex: 142 entries, 0 to 141\n",
      "Data columns (total 6 columns):\n",
      " #   Column      Non-Null Count  Dtype  \n",
      "---  ------      --------------  -----  \n",
      " 0   country     142 non-null    object \n",
      " 1   year        142 non-null    int64  \n",
      " 2   population  142 non-null    int64  \n",
      " 3   cont        142 non-null    object \n",
      " 4   life_exp    142 non-null    float64\n",
      " 5   gdp_cap     142 non-null    float64\n",
      "dtypes: float64(2), int64(2), object(2)\n",
      "memory usage: 6.8+ KB\n"
     ]
    }
   ],
   "source": [
    "## Code snippet 1.3.1.4\n",
    "\n",
    "import pandas as pd\n",
    "\n",
    "# Reading a CSV file into a DataFrame\n",
    "data2007 = pd.read_csv(\"datasets/gapminder.csv\")\n",
    "\n",
    "# Finding information about the DataFrame\n",
    "data2007.info()"
   ]
  },
  {
   "cell_type": "code",
   "execution_count": 47,
   "metadata": {},
   "outputs": [
    {
     "name": "stdout",
     "output_type": "stream",
     "text": [
      "                country  year  population      cont  life_exp       gdp_cap\n",
      "0           Afghanistan  2007    31889923      Asia    43.828    974.580338\n",
      "1               Albania  2007     3600523    Europe    76.423   5937.029526\n",
      "2               Algeria  2007    33333216    Africa    72.301   6223.367465\n",
      "3                Angola  2007    12420476    Africa    42.731   4797.231267\n",
      "4             Argentina  2007    40301927  Americas    75.320  12779.379640\n",
      "..                  ...   ...         ...       ...       ...           ...\n",
      "137             Vietnam  2007    85262356      Asia    74.249   2441.576404\n",
      "138  West Bank and Gaza  2007     4018332      Asia    73.422   3025.349798\n",
      "139         Yemen, Rep.  2007    22211743      Asia    62.698   2280.769906\n",
      "140              Zambia  2007    11746035    Africa    42.384   1271.211593\n",
      "141            Zimbabwe  2007    12311143    Africa    43.487    469.709298\n",
      "\n",
      "[142 rows x 6 columns]\n"
     ]
    }
   ],
   "source": [
    "print(data2007)"
   ]
  },
  {
   "cell_type": "markdown",
   "metadata": {},
   "source": [
    "---\n",
    "## 1.3.1.5  Attributes of Pandas Series\n",
    "---\n",
    "\n",
    "*Pandas Series* come with several useful attributes, such as *index*, *values*, and *dtype*. \n",
    "\n",
    "These attributes help you understand the structure and type of data you’re working with. \n",
    "\n",
    "Let’s create a Series and explore these attributes."
   ]
  },
  {
   "cell_type": "code",
   "execution_count": 27,
   "metadata": {},
   "outputs": [
    {
     "name": "stdout",
     "output_type": "stream",
     "text": [
      "Index: RangeIndex(start=0, stop=5, step=1)\n",
      "Values: [10 20 30 40 50]\n",
      "Data type: int64\n",
      "Shape: (5,)\n",
      "Size: 5\n"
     ]
    }
   ],
   "source": [
    "## Code snippet 1.3.1.5\n",
    "\n",
    "series = pd.Series([10, 20, 30, 40, 50])\n",
    "print(\"Index:\", series.index)\n",
    "print(\"Values:\", series.values)\n",
    "print(\"Data type:\", series.dtype)\n",
    "print(\"Shape:\", series.shape)\n",
    "print(\"Size:\", series.size)"
   ]
  },
  {
   "cell_type": "markdown",
   "metadata": {},
   "source": [
    "---\n",
    "## 1.3.1.6  Attributes of Pandas DataFrame\n",
    "---\n",
    "\n",
    "Similarly, *DataFrames* have several useful attributes, such as *columns*, *index*, *dtypes*, *shape*, and *size*. \n",
    "\n",
    "These attributes provide insights into the *structure* and *size* of the *DataFrame*. \n",
    "\n",
    "Let’s create a *DataFrame* and look at its attributes.”\n",
    "\n"
   ]
  },
  {
   "cell_type": "code",
   "execution_count": 25,
   "metadata": {},
   "outputs": [
    {
     "name": "stdout",
     "output_type": "stream",
     "text": [
      "Columns: Index(['Name', 'Age', 'City'], dtype='object')\n",
      "Index: RangeIndex(start=0, stop=3, step=1)\n",
      "\n",
      "Data types: Name    object\n",
      "Age      int64\n",
      "City    object\n",
      "dtype: object\n",
      "\n",
      "Shape: (3, 3)\n",
      "Size: 9\n"
     ]
    }
   ],
   "source": [
    "## Code snippet 1.3.1.6\n",
    "\n",
    "df = pd.DataFrame({\n",
    "    'Name': ['Alice', 'Bob', 'Charlie'],\n",
    "    'Age': [24, 27, 22],\n",
    "    'City': ['New York', 'Los Angeles', 'Chicago']\n",
    "})\n",
    "print(\"Columns:\", df.columns)\n",
    "print(\"Index:\", df.index)\n",
    "print(\"\\nData types:\", df.dtypes)\n",
    "print(\"\\nShape:\", df.shape)\n",
    "print(\"Size:\", df.size)"
   ]
  },
  {
   "cell_type": "markdown",
   "metadata": {},
   "source": [
    "---\n",
    "## 1.3.1.7  Basic Operations on DataFrames\n",
    "---\n",
    "\n",
    "*DataFrames* allow you to perform a variety of operations, such as \n",
    "\n",
    "*  selecting columns, \n",
    "*  filtering rows, \n",
    "*  adding or deleting columns, and \n",
    "*  generating summary statistics. \n",
    "\n",
    "These operations are essential for data manipulation and analysis. \n",
    "\n",
    "Let’s go through some basic operations on a DataFrame."
   ]
  },
  {
   "cell_type": "code",
   "execution_count": 41,
   "metadata": {},
   "outputs": [
    {
     "name": "stdout",
     "output_type": "stream",
     "text": [
      "Ages: \n",
      " 0    24\n",
      "1    27\n",
      "2    22\n",
      "3    32\n",
      "4    29\n",
      "Name: Age, dtype: int64\n",
      "\n",
      "Young people:\n",
      "       Name  Age         City\n",
      "0    Alice   24     New York\n",
      "1      Bob   27  Los Angeles\n",
      "2  Charlie   22      Chicago\n",
      "4      Eve   29      Phoenix\n"
     ]
    }
   ],
   "source": [
    "## Code snippet 1.3.1.7(a)\n",
    "\n",
    "df = pd.DataFrame({\n",
    "    'Name': ['Alice', 'Bob', 'Charlie', 'David', 'Eve'],\n",
    "    'Age': [24, 27, 22, 32, 29],\n",
    "    'City': ['New York', 'Los Angeles', 'Chicago', 'Houston', 'Phoenix']\n",
    "})\n",
    "\n",
    "# Selecting a column\n",
    "ages = df['Age']\n",
    "print(\"Ages: \\n\", ages)\n",
    "\n",
    "# Filtering rows\n",
    "young_people = df[df['Age'] < 30]\n",
    "print(\"\\nYoung people:\\n\", young_people)\n"
   ]
  },
  {
   "cell_type": "code",
   "execution_count": 44,
   "metadata": {},
   "outputs": [
    {
     "name": "stdout",
     "output_type": "stream",
     "text": [
      "DataFrame with Score column added:\n",
      "       Name  Age         City  Score\n",
      "0    Alice   24     New York     85\n",
      "1      Bob   27  Los Angeles     90\n",
      "2  Charlie   22      Chicago     95\n",
      "3    David   32      Houston     88\n",
      "4      Eve   29      Phoenix     92\n",
      "\n",
      "DataFrame with Score column deleted:\n",
      "       Name  Age         City\n",
      "0    Alice   24     New York\n",
      "1      Bob   27  Los Angeles\n",
      "2  Charlie   22      Chicago\n",
      "3    David   32      Houston\n",
      "4      Eve   29      Phoenix\n"
     ]
    }
   ],
   "source": [
    "## Code snippet 1.3.1.7(b)\n",
    "\n",
    "# Adding a new column\n",
    "df['Score'] = [85, 90, 95, 88, 92]\n",
    "print(\"DataFrame with Score column added:\\n\", df)\n",
    "\n",
    "# Deleting a column\n",
    "df = df.drop(columns=['Score'])\n",
    "print(\"\\nDataFrame with Score column deleted:\\n\", df)\n"
   ]
  },
  {
   "cell_type": "code",
   "execution_count": 45,
   "metadata": {},
   "outputs": [
    {
     "name": "stdout",
     "output_type": "stream",
     "text": [
      "\n",
      "Summary statistics:\n",
      "              Age\n",
      "count   5.000000\n",
      "mean   26.800000\n",
      "std     3.962323\n",
      "min    22.000000\n",
      "25%    24.000000\n",
      "50%    27.000000\n",
      "75%    29.000000\n",
      "max    32.000000\n"
     ]
    }
   ],
   "source": [
    "## Code snippet 1.3.1.7(c)\n",
    "\n",
    "# Summary statistics\n",
    "print(\"\\nSummary statistics:\\n\", df.describe())"
   ]
  },
  {
   "cell_type": "code",
   "execution_count": 52,
   "metadata": {},
   "outputs": [
    {
     "name": "stdout",
     "output_type": "stream",
     "text": [
      "<class 'pandas.core.frame.DataFrame'>\n",
      "RangeIndex: 142 entries, 0 to 141\n",
      "Data columns (total 6 columns):\n",
      " #   Column      Non-Null Count  Dtype  \n",
      "---  ------      --------------  -----  \n",
      " 0   country     142 non-null    object \n",
      " 1   year        142 non-null    int64  \n",
      " 2   population  142 non-null    int64  \n",
      " 3   cont        142 non-null    object \n",
      " 4   life_exp    142 non-null    float64\n",
      " 5   gdp_cap     142 non-null    float64\n",
      "dtypes: float64(2), int64(2), object(2)\n",
      "memory usage: 6.8+ KB\n"
     ]
    },
    {
     "data": {
      "text/html": [
       "<div>\n",
       "<style scoped>\n",
       "    .dataframe tbody tr th:only-of-type {\n",
       "        vertical-align: middle;\n",
       "    }\n",
       "\n",
       "    .dataframe tbody tr th {\n",
       "        vertical-align: top;\n",
       "    }\n",
       "\n",
       "    .dataframe thead th {\n",
       "        text-align: right;\n",
       "    }\n",
       "</style>\n",
       "<table border=\"1\" class=\"dataframe\">\n",
       "  <thead>\n",
       "    <tr style=\"text-align: right;\">\n",
       "      <th></th>\n",
       "      <th>year</th>\n",
       "      <th>population</th>\n",
       "      <th>life_exp</th>\n",
       "      <th>gdp_cap</th>\n",
       "    </tr>\n",
       "  </thead>\n",
       "  <tbody>\n",
       "    <tr>\n",
       "      <th>count</th>\n",
       "      <td>142.0</td>\n",
       "      <td>1.420000e+02</td>\n",
       "      <td>142.000000</td>\n",
       "      <td>142.000000</td>\n",
       "    </tr>\n",
       "    <tr>\n",
       "      <th>mean</th>\n",
       "      <td>2007.0</td>\n",
       "      <td>4.402122e+07</td>\n",
       "      <td>67.007423</td>\n",
       "      <td>11680.071820</td>\n",
       "    </tr>\n",
       "    <tr>\n",
       "      <th>std</th>\n",
       "      <td>0.0</td>\n",
       "      <td>1.476214e+08</td>\n",
       "      <td>12.073021</td>\n",
       "      <td>12859.937337</td>\n",
       "    </tr>\n",
       "    <tr>\n",
       "      <th>min</th>\n",
       "      <td>2007.0</td>\n",
       "      <td>1.995790e+05</td>\n",
       "      <td>39.613000</td>\n",
       "      <td>277.551859</td>\n",
       "    </tr>\n",
       "    <tr>\n",
       "      <th>25%</th>\n",
       "      <td>2007.0</td>\n",
       "      <td>4.508034e+06</td>\n",
       "      <td>57.160250</td>\n",
       "      <td>1624.842248</td>\n",
       "    </tr>\n",
       "    <tr>\n",
       "      <th>50%</th>\n",
       "      <td>2007.0</td>\n",
       "      <td>1.051753e+07</td>\n",
       "      <td>71.935500</td>\n",
       "      <td>6124.371108</td>\n",
       "    </tr>\n",
       "    <tr>\n",
       "      <th>75%</th>\n",
       "      <td>2007.0</td>\n",
       "      <td>3.121004e+07</td>\n",
       "      <td>76.413250</td>\n",
       "      <td>18008.835640</td>\n",
       "    </tr>\n",
       "    <tr>\n",
       "      <th>max</th>\n",
       "      <td>2007.0</td>\n",
       "      <td>1.318683e+09</td>\n",
       "      <td>82.603000</td>\n",
       "      <td>49357.190170</td>\n",
       "    </tr>\n",
       "  </tbody>\n",
       "</table>\n",
       "</div>"
      ],
      "text/plain": [
       "         year    population    life_exp       gdp_cap\n",
       "count   142.0  1.420000e+02  142.000000    142.000000\n",
       "mean   2007.0  4.402122e+07   67.007423  11680.071820\n",
       "std       0.0  1.476214e+08   12.073021  12859.937337\n",
       "min    2007.0  1.995790e+05   39.613000    277.551859\n",
       "25%    2007.0  4.508034e+06   57.160250   1624.842248\n",
       "50%    2007.0  1.051753e+07   71.935500   6124.371108\n",
       "75%    2007.0  3.121004e+07   76.413250  18008.835640\n",
       "max    2007.0  1.318683e+09   82.603000  49357.190170"
      ]
     },
     "execution_count": 52,
     "metadata": {},
     "output_type": "execute_result"
    }
   ],
   "source": [
    "## Code snippet 1.3.1.7(d)\n",
    "\n",
    "data2007.info()\n",
    "\n",
    "\n",
    "data2007.describe()"
   ]
  },
  {
   "cell_type": "markdown",
   "metadata": {},
   "source": [
    "---\n",
    "Summary\n",
    "---\n",
    "\n",
    "*\tPandas is essential for data manipulation in Python.\n",
    "*\tSeries and DataFrames are the core data structures.\n",
    "*\tDataFrames can be created from dictionaries, CSV files, and other data sources.\n",
    "*\tSeries and DataFrames have useful attributes and methods for data analysis.\n",
    "*\tBasic operations allow for effective data manipulation and analysis."
   ]
  }
 ],
 "metadata": {
  "kernelspec": {
   "display_name": "Python 3",
   "language": "python",
   "name": "python3"
  },
  "language_info": {
   "codemirror_mode": {
    "name": "ipython",
    "version": 3
   },
   "file_extension": ".py",
   "mimetype": "text/x-python",
   "name": "python",
   "nbconvert_exporter": "python",
   "pygments_lexer": "ipython3",
   "version": "3.12.2"
  }
 },
 "nbformat": 4,
 "nbformat_minor": 2
}
