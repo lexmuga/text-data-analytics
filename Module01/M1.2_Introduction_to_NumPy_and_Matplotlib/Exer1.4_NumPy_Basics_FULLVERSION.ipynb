{
 "cells": [
  {
   "cell_type": "markdown",
   "metadata": {},
   "source": [
    "## Module 1: Exercises 4: NumPy Basics"
   ]
  },
  {
   "cell_type": "markdown",
   "metadata": {},
   "source": [
    "---\n",
    "### Exercise 4.1: Your First NumPy Array\n",
    "---\n",
    "\n",
    "You're now going to dive into the world of basketball. \n",
    "\n",
    "Along the way, you'll get comfortable with the basics of `numpy`, a powerful package to do data science.\n",
    "\n",
    "A list `basketball` has already been defined in the Python script, representing the *height* of some basketball players in *centimeters*. Can you add some code to create a `numpy` array from it?\n",
    "\n",
    "#### Instructions 4.1\n",
    "\n",
    "*  Import the `numpy` package as `np`, so that you can refer to `numpy` with `np`.\n",
    "\n",
    "*  Use `np.array()` to create a numpy array from `basketball`. Name this array `np_basketball`.\n",
    "\n",
    "*  Print out the type of `np_basketball` to check that you got it right."
   ]
  },
  {
   "cell_type": "code",
   "execution_count": 3,
   "metadata": {},
   "outputs": [
    {
     "name": "stdout",
     "output_type": "stream",
     "text": [
      "<class 'numpy.ndarray'>\n"
     ]
    }
   ],
   "source": [
    "## code.py 4.1\n",
    "\n",
    "# Create list basketball\n",
    "basketball = [180, 215, 210, 210, 188, 176, 209, 200]\n",
    "\n",
    "# Import the numpy package as np\n",
    "import numpy as np\n",
    "\n",
    "\n",
    "# Create a numpy array from basketball: np_basketball\n",
    "np_basketball = np.array(basketball)\n",
    "\n",
    "# Print out type of np_basketball\n",
    "print(type(np_basketball))"
   ]
  },
  {
   "cell_type": "markdown",
   "metadata": {},
   "source": [
    "---\n",
    "### Exercise 4.2: Basketball players' height\n",
    "---\n",
    "\n",
    "You are a huge basketball fan. \n",
    "\n",
    "You decide to call the PBA and ask around for some more statistics on the height of the main players. They pass along data on more than a five hundred players, which is stored as a regular Python list: `height_in`. The height is expressed in *inches*. Can you make a numpy array out of it and convert the units to *meters*?\n",
    "\n",
    "`height_in` is already available and the `numpy` package is loaded, so you can start straight away (https://en.wikipedia.org/wiki/List_of_Philippine_Basketball_Association_players_(U%E2%80%93Z).\n",
    "\n"
   ]
  },
  {
   "cell_type": "code",
   "execution_count": 34,
   "metadata": {},
   "outputs": [],
   "source": [
    "# height in inches of pba players since 1976\n",
    "height_in = [70, 71, 73, 73, 67, 75, 75, 76, 73, 74, 77, 73, 73, 72, 68, 72, 76,\n",
    "       67, 78, 77, 76, 73, 77, 73, 73, 80, 71, 70, 76, 79, 73, 77, 76, 80,\n",
    "       72, 76, 68, 74, 79, 71, 77, 71, 72, 79, 70, 82, 73, 73, 75, 75, 69,\n",
    "       76, 74, 70, 76, 77, 77, 77, 68, 70, 75, 71, 71, 75, 79, 70, 79, 73,\n",
    "       76, 78, 76, 70, 72, 72, 76, 73, 81, 76, 77, 73, 79, 81, 71, 72, 78,\n",
    "       75, 79, 82, 78, 76, 74, 76, 84, 69, 72, 77, 68, 71, 72, 71, 69, 68,\n",
    "       73, 78, 75, 67, 69, 76, 77, 68, 79, 78, 76, 70, 75, 74, 72, 76, 76,\n",
    "       67, 76, 71, 71, 70, 74, 73, 67, 77, 71, 72, 73, 72, 77, 72, 70, 78,\n",
    "       79, 76, 74, 75, 78, 76, 80, 71, 74, 76, 77, 72, 72, 80, 74, 75, 75,\n",
    "       72, 74, 68, 76, 69, 76, 77, 74, 74, 76, 75, 76, 78, 77, 77, 75, 74,\n",
    "       71, 77, 71, 76, 75, 76, 75, 74, 75, 77, 75, 72, 79, 78, 71, 75, 74,\n",
    "       77, 69, 72, 72, 76, 78, 77, 79, 76, 80, 78, 81, 74, 71, 73, 66, 78,\n",
    "       76, 75, 72, 78, 79, 75, 74, 77, 73, 72, 75, 74, 79, 77, 76, 74, 77,\n",
    "       75, 78, 78, 73, 76, 77, 75, 79, 78, 76, 74, 84, 80, 70, 76, 76, 75,\n",
    "       77, 75, 73, 77, 77, 73, 74, 74, 74, 68, 75, 77, 81, 76, 78, 69, 75,\n",
    "       71, 69, 71, 77, 68, 78, 73, 76, 76, 75, 79, 73, 71, 73, 71, 68, 68,\n",
    "       74, 76, 76, 76, 76, 78, 76, 77, 78, 69, 78, 73, 69, 75, 74, 72, 70,\n",
    "       77, 71, 72, 75, 76, 77, 76, 74, 77, 79, 81, 73, 72, 78, 74, 75, 76,\n",
    "       76, 76, 75, 75, 72, 75, 76, 77, 69, 69, 77, 77, 72, 73, 78, 72, 75,\n",
    "       69, 76, 77, 72, 74, 70, 81, 72, 76, 73, 75, 73, 74, 72, 77, 74, 79,\n",
    "       73, 72, 73, 71, 73, 77, 76, 74, 77, 81, 71, 78, 74, 73, 71, 74, 70,\n",
    "       74, 68, 68, 77, 79, 79, 75, 69, 74, 79, 68, 76, 74, 77, 68, 75, 73,\n",
    "       71, 74, 74, 76, 71, 77, 76, 74, 74, 78, 76, 73, 76, 75, 76, 73, 74,\n",
    "       72, 76, 74, 70, 72, 75, 78, 73, 78, 80, 82, 80, 79, 76, 70, 73, 75,\n",
    "       75, 78, 78, 79, 77, 76, 71, 74, 72, 77, 75, 70, 70, 78, 73, 73, 76,\n",
    "       72, 65, 69, 76, 71, 76, 76, 75, 74, 76, 83, 75, 75, 73, 75, 76, 74,\n",
    "       80, 69, 70, 74, 81, 73, 76, 73, 77, 70, 77, 74, 79, 78, 72, 71, 78,\n",
    "       76, 70, 68, 74, 75, 78, 75, 70, 74, 72, 72, 73, 76, 76, 78, 73, 67,\n",
    "       70, 74, 74, 71, 73, 74, 76, 78, 72, 78, 79, 81, 70, 76, 77, 71, 74,\n",
    "       73, 76, 77, 76, 79, 79, 72, 72, 73, 75, 76, 68, 75, 77, 72, 78, 68,\n",
    "       78, 73, 66, 78, 71, 71]"
   ]
  },
  {
   "cell_type": "code",
   "execution_count": 36,
   "metadata": {},
   "outputs": [
    {
     "name": "stdout",
     "output_type": "stream",
     "text": [
      "<class 'list'>\n",
      "516\n"
     ]
    }
   ],
   "source": [
    "print(type(height_in))\n",
    "print(len(height_in))"
   ]
  },
  {
   "cell_type": "markdown",
   "metadata": {},
   "source": [
    "#### Instructions 4.2\n",
    "\n",
    "*  Create a `numpy` array from `height_in`. Name this new array `np_height_in`.\n",
    "\n",
    "*  Print `np_height_in`.\n",
    "\n",
    "*  Multiply `np_height_in` with `0.0254` to convert all height measurements from `inches` to `meters`. Store the new values in a new array, `np_height_m`.\n",
    "\n",
    "*  Print out `np_height_m` and check if the output makes sense.\n"
   ]
  },
  {
   "cell_type": "code",
   "execution_count": 37,
   "metadata": {},
   "outputs": [
    {
     "name": "stdout",
     "output_type": "stream",
     "text": [
      "[70 71 73 73 67 75 75 76 73 74 77 73 73 72 68 72 76 67 78 77 76 73 77 73\n",
      " 73 80 71 70 76 79 73 77 76 80 72 76 68 74 79 71 77 71 72 79 70 82 73 73\n",
      " 75 75 69 76 74 70 76 77 77 77 68 70 75 71 71 75 79 70 79 73 76 78 76 70\n",
      " 72 72 76 73 81 76 77 73 79 81 71 72 78 75 79 82 78 76 74 76 84 69 72 77\n",
      " 68 71 72 71 69 68 73 78 75 67 69 76 77 68 79 78 76 70 75 74 72 76 76 67\n",
      " 76 71 71 70 74 73 67 77 71 72 73 72 77 72 70 78 79 76 74 75 78 76 80 71\n",
      " 74 76 77 72 72 80 74 75 75 72 74 68 76 69 76 77 74 74 76 75 76 78 77 77\n",
      " 75 74 71 77 71 76 75 76 75 74 75 77 75 72 79 78 71 75 74 77 69 72 72 76\n",
      " 78 77 79 76 80 78 81 74 71 73 66 78 76 75 72 78 79 75 74 77 73 72 75 74\n",
      " 79 77 76 74 77 75 78 78 73 76 77 75 79 78 76 74 84 80 70 76 76 75 77 75\n",
      " 73 77 77 73 74 74 74 68 75 77 81 76 78 69 75 71 69 71 77 68 78 73 76 76\n",
      " 75 79 73 71 73 71 68 68 74 76 76 76 76 78 76 77 78 69 78 73 69 75 74 72\n",
      " 70 77 71 72 75 76 77 76 74 77 79 81 73 72 78 74 75 76 76 76 75 75 72 75\n",
      " 76 77 69 69 77 77 72 73 78 72 75 69 76 77 72 74 70 81 72 76 73 75 73 74\n",
      " 72 77 74 79 73 72 73 71 73 77 76 74 77 81 71 78 74 73 71 74 70 74 68 68\n",
      " 77 79 79 75 69 74 79 68 76 74 77 68 75 73 71 74 74 76 71 77 76 74 74 78\n",
      " 76 73 76 75 76 73 74 72 76 74 70 72 75 78 73 78 80 82 80 79 76 70 73 75\n",
      " 75 78 78 79 77 76 71 74 72 77 75 70 70 78 73 73 76 72 65 69 76 71 76 76\n",
      " 75 74 76 83 75 75 73 75 76 74 80 69 70 74 81 73 76 73 77 70 77 74 79 78\n",
      " 72 71 78 76 70 68 74 75 78 75 70 74 72 72 73 76 76 78 73 67 70 74 74 71\n",
      " 73 74 76 78 72 78 79 81 70 76 77 71 74 73 76 77 76 79 79 72 72 73 75 76\n",
      " 68 75 77 72 78 68 78 73 66 78 71 71]\n",
      "[1.778  1.8034 1.8542 1.8542 1.7018 1.905  1.905  1.9304 1.8542 1.8796\n",
      " 1.9558 1.8542 1.8542 1.8288 1.7272 1.8288 1.9304 1.7018 1.9812 1.9558\n",
      " 1.9304 1.8542 1.9558 1.8542 1.8542 2.032  1.8034 1.778  1.9304 2.0066\n",
      " 1.8542 1.9558 1.9304 2.032  1.8288 1.9304 1.7272 1.8796 2.0066 1.8034\n",
      " 1.9558 1.8034 1.8288 2.0066 1.778  2.0828 1.8542 1.8542 1.905  1.905\n",
      " 1.7526 1.9304 1.8796 1.778  1.9304 1.9558 1.9558 1.9558 1.7272 1.778\n",
      " 1.905  1.8034 1.8034 1.905  2.0066 1.778  2.0066 1.8542 1.9304 1.9812\n",
      " 1.9304 1.778  1.8288 1.8288 1.9304 1.8542 2.0574 1.9304 1.9558 1.8542\n",
      " 2.0066 2.0574 1.8034 1.8288 1.9812 1.905  2.0066 2.0828 1.9812 1.9304\n",
      " 1.8796 1.9304 2.1336 1.7526 1.8288 1.9558 1.7272 1.8034 1.8288 1.8034\n",
      " 1.7526 1.7272 1.8542 1.9812 1.905  1.7018 1.7526 1.9304 1.9558 1.7272\n",
      " 2.0066 1.9812 1.9304 1.778  1.905  1.8796 1.8288 1.9304 1.9304 1.7018\n",
      " 1.9304 1.8034 1.8034 1.778  1.8796 1.8542 1.7018 1.9558 1.8034 1.8288\n",
      " 1.8542 1.8288 1.9558 1.8288 1.778  1.9812 2.0066 1.9304 1.8796 1.905\n",
      " 1.9812 1.9304 2.032  1.8034 1.8796 1.9304 1.9558 1.8288 1.8288 2.032\n",
      " 1.8796 1.905  1.905  1.8288 1.8796 1.7272 1.9304 1.7526 1.9304 1.9558\n",
      " 1.8796 1.8796 1.9304 1.905  1.9304 1.9812 1.9558 1.9558 1.905  1.8796\n",
      " 1.8034 1.9558 1.8034 1.9304 1.905  1.9304 1.905  1.8796 1.905  1.9558\n",
      " 1.905  1.8288 2.0066 1.9812 1.8034 1.905  1.8796 1.9558 1.7526 1.8288\n",
      " 1.8288 1.9304 1.9812 1.9558 2.0066 1.9304 2.032  1.9812 2.0574 1.8796\n",
      " 1.8034 1.8542 1.6764 1.9812 1.9304 1.905  1.8288 1.9812 2.0066 1.905\n",
      " 1.8796 1.9558 1.8542 1.8288 1.905  1.8796 2.0066 1.9558 1.9304 1.8796\n",
      " 1.9558 1.905  1.9812 1.9812 1.8542 1.9304 1.9558 1.905  2.0066 1.9812\n",
      " 1.9304 1.8796 2.1336 2.032  1.778  1.9304 1.9304 1.905  1.9558 1.905\n",
      " 1.8542 1.9558 1.9558 1.8542 1.8796 1.8796 1.8796 1.7272 1.905  1.9558\n",
      " 2.0574 1.9304 1.9812 1.7526 1.905  1.8034 1.7526 1.8034 1.9558 1.7272\n",
      " 1.9812 1.8542 1.9304 1.9304 1.905  2.0066 1.8542 1.8034 1.8542 1.8034\n",
      " 1.7272 1.7272 1.8796 1.9304 1.9304 1.9304 1.9304 1.9812 1.9304 1.9558\n",
      " 1.9812 1.7526 1.9812 1.8542 1.7526 1.905  1.8796 1.8288 1.778  1.9558\n",
      " 1.8034 1.8288 1.905  1.9304 1.9558 1.9304 1.8796 1.9558 2.0066 2.0574\n",
      " 1.8542 1.8288 1.9812 1.8796 1.905  1.9304 1.9304 1.9304 1.905  1.905\n",
      " 1.8288 1.905  1.9304 1.9558 1.7526 1.7526 1.9558 1.9558 1.8288 1.8542\n",
      " 1.9812 1.8288 1.905  1.7526 1.9304 1.9558 1.8288 1.8796 1.778  2.0574\n",
      " 1.8288 1.9304 1.8542 1.905  1.8542 1.8796 1.8288 1.9558 1.8796 2.0066\n",
      " 1.8542 1.8288 1.8542 1.8034 1.8542 1.9558 1.9304 1.8796 1.9558 2.0574\n",
      " 1.8034 1.9812 1.8796 1.8542 1.8034 1.8796 1.778  1.8796 1.7272 1.7272\n",
      " 1.9558 2.0066 2.0066 1.905  1.7526 1.8796 2.0066 1.7272 1.9304 1.8796\n",
      " 1.9558 1.7272 1.905  1.8542 1.8034 1.8796 1.8796 1.9304 1.8034 1.9558\n",
      " 1.9304 1.8796 1.8796 1.9812 1.9304 1.8542 1.9304 1.905  1.9304 1.8542\n",
      " 1.8796 1.8288 1.9304 1.8796 1.778  1.8288 1.905  1.9812 1.8542 1.9812\n",
      " 2.032  2.0828 2.032  2.0066 1.9304 1.778  1.8542 1.905  1.905  1.9812\n",
      " 1.9812 2.0066 1.9558 1.9304 1.8034 1.8796 1.8288 1.9558 1.905  1.778\n",
      " 1.778  1.9812 1.8542 1.8542 1.9304 1.8288 1.651  1.7526 1.9304 1.8034\n",
      " 1.9304 1.9304 1.905  1.8796 1.9304 2.1082 1.905  1.905  1.8542 1.905\n",
      " 1.9304 1.8796 2.032  1.7526 1.778  1.8796 2.0574 1.8542 1.9304 1.8542\n",
      " 1.9558 1.778  1.9558 1.8796 2.0066 1.9812 1.8288 1.8034 1.9812 1.9304\n",
      " 1.778  1.7272 1.8796 1.905  1.9812 1.905  1.778  1.8796 1.8288 1.8288\n",
      " 1.8542 1.9304 1.9304 1.9812 1.8542 1.7018 1.778  1.8796 1.8796 1.8034\n",
      " 1.8542 1.8796 1.9304 1.9812 1.8288 1.9812 2.0066 2.0574 1.778  1.9304\n",
      " 1.9558 1.8034 1.8796 1.8542 1.9304 1.9558 1.9304 2.0066 2.0066 1.8288\n",
      " 1.8288 1.8542 1.905  1.9304 1.7272 1.905  1.9558 1.8288 1.9812 1.7272\n",
      " 1.9812 1.8542 1.6764 1.9812 1.8034 1.8034]\n"
     ]
    }
   ],
   "source": [
    "## code.py 4.2\n",
    "\n",
    "# Import numpy\n",
    "import numpy as np\n",
    "\n",
    "# Create a numpy array from height_in: np_height_in \n",
    "np_height_in = np.array(height_in)\n",
    "\n",
    "\n",
    "# Print out np_height_in\n",
    "print(np_height_in)\n",
    "\n",
    "\n",
    "# Convert np_height_in to m: np_height_m\n",
    "np_height_m = 0.0254 * np_height_in\n",
    "\n",
    "\n",
    "# Print np_height_m\n",
    "print(np_height_m)\n"
   ]
  },
  {
   "cell_type": "markdown",
   "metadata": {},
   "source": [
    "---\n",
    "## Exercise 4.3: NumPy Side Effects\n",
    "---\n",
    "\n",
    "`numpy` is great for doing vector arithmetic.\n",
    "\n",
    "If you compare its functionality with regular Python lists, however, some things have changed.\n",
    "\n",
    "*  First of all, numpy arrays **cannot** contain elements with different types. \n",
    "  \n",
    "*  Second, the typical arithmetic operators, such as `+`, `-,` `*` and `/` have a different meaning for *regular Python lists* and *numpy arrays*.\n",
    "\n",
    "Some lines of code have been provided for you. \n",
    "\n",
    "Try these out and select the one that would match this:\n",
    "\n",
    "```\n",
    "np.array([True, 1, 2]) + np.array([3, 4, False])\n",
    "```\n",
    "\n",
    "The `numpy` package is already imported as `np`."
   ]
  },
  {
   "cell_type": "code",
   "execution_count": 38,
   "metadata": {},
   "outputs": [
    {
     "data": {
      "text/plain": [
       "array([4, 5, 2])"
      ]
     },
     "execution_count": 38,
     "metadata": {},
     "output_type": "execute_result"
    }
   ],
   "source": [
    "np.array([True, 1, 2]) + np.array([3, 4, False])"
   ]
  },
  {
   "cell_type": "markdown",
   "metadata": {},
   "source": [
    "#### Instructions 4.3\n",
    "\n",
    "**Possible answers**\n",
    "\n",
    "$\\bigotimes$  `np.array([True, 1, 2, 3, 4, False])`\n",
    "\n",
    "$\\large\\checkmark$  `np.array([4, 3, 0]) + np.array([0, 2, 2])`\n",
    "\n",
    "$\\bigotimes$  `np.array([1, 1, 2]) + np.array([3, 4, -1])`\n",
    "\n",
    "$\\bigotimes$  `np.array([0, 1, 2, 3, 4, 5])`"
   ]
  },
  {
   "cell_type": "markdown",
   "metadata": {},
   "source": [
    "---\n",
    "## Exercise 4.4  Subsetting NumPy Arrays\n",
    "---\n",
    "\n",
    "Subsetting (using the *square bracket notation on lists or arrays*) works exactly the same with both lists and arrays.\n",
    "\n",
    "This exercise already has two lists, `height_in` and `weight_lb`, loaded in the background for you. \n",
    "\n",
    "These contain the *height* and *weight* of the PBA players as *regular lists*. \n",
    "\n",
    "It also has two numpy array lists, `np_weight_lb` and `np_height_in` prepared for you.\n"
   ]
  },
  {
   "cell_type": "code",
   "execution_count": 71,
   "metadata": {},
   "outputs": [],
   "source": [
    "## weight in pounds of PBA players since 1976\n",
    "weight_lb = list([155, 165, 180, 175, 138, 194, 200, 200, 185, 170, 215, 180, 174,\n",
    "       180, 160, 180, 175, 135, 210, 190, 205, 170, 188, 210, 146, 210,\n",
    "       168, 185, 220, 210, 185, 215, 200, 200, 140, 170, 160, 180, 200,\n",
    "       160, 195, 165, 177, 215, 160, 235, 180, 180, 200, 205, 149, 176,\n",
    "       170, 175, 180, 200, 195, 220, 150, 165, 187, 170, 182, 180, 230,\n",
    "       160, 225, 190, 205, 210, 180, 175, 180, 165, 212, 185, 210, 190,\n",
    "       185, 172, 230, 220, 180, 180, 220, 221, 218, 210, 230, 180, 180,\n",
    "       190, 258, 148, 180, 174, 160, 165, 170, 175, 200, 155, 190, 215,\n",
    "       220, 170, 180, 200, 215, 165, 215, 224, 210, 170, 220, 185, 185,\n",
    "       180, 180, 150, 195, 170, 185, 165, 175, 175, 143, 200, 165, 180,\n",
    "       170, 182, 190, 180, 180, 260, 250, 185, 187, 175, 212, 200, 235,\n",
    "       160, 179, 195, 205, 185, 200, 260, 190, 185, 200, 169, 185, 155,\n",
    "       175, 170, 184, 212, 180, 170, 220, 185, 198, 205, 220, 186, 160,\n",
    "       180, 165, 170, 185, 180, 176, 192, 220, 185, 175, 190, 170, 180,\n",
    "       230, 222, 160, 200, 195, 190, 170, 170, 185, 210, 220, 200, 102,\n",
    "       218, 237, 222, 206, 168, 170, 175, 135, 210, 205, 195, 178, 220,\n",
    "       190, 190, 180, 215, 179, 180, 185, 195, 220, 227, 217, 200, 232,\n",
    "       190, 210, 210, 200, 196, 200, 205, 245, 228, 200, 175, 300, 240,\n",
    "       160, 160, 217, 250, 170, 180, 172, 200, 200, 180, 192, 185, 180,\n",
    "       150, 184, 195, 230, 210, 200, 165, 185, 180, 155, 195, 208, 160,\n",
    "       200, 180, 225, 187, 180, 210, 185, 170, 185, 163, 150, 150, 185,\n",
    "       218, 179, 200, 185, 200, 250, 200, 210, 145, 205, 175, 160, 180,\n",
    "       190, 185, 170, 210, 185, 165, 175, 210, 210, 185, 190, 205, 231,\n",
    "       300, 142, 165, 220, 185, 170, 200, 215, 190, 180, 188, 185, 210,\n",
    "       195, 180, 145, 151, 190, 210, 180, 168, 194, 180, 175, 150, 228,\n",
    "       200, 165, 175, 170, 215, 200, 192, 200, 215, 185, 185, 184, 202,\n",
    "       180, 215, 180, 155, 178, 165, 185, 190, 230, 168, 231, 245, 195,\n",
    "       190, 188, 180, 195, 196, 150, 187, 155, 160, 240, 210, 180, 215,\n",
    "       160, 170, 235, 145, 198, 220, 200, 151, 235, 170, 154, 180, 185,\n",
    "       195, 190, 215, 205, 175, 199, 210, 218, 190, 200, 190, 200, 184,\n",
    "       180, 185, 240, 179, 159, 180, 190, 198, 183, 210, 220, 252, 200,\n",
    "       210, 201, 178, 170, 140, 189, 220, 230, 235, 205, 209, 170, 160,\n",
    "       155, 192, 190, 176, 165, 195, 185, 180, 198, 180, 150, 150, 210,\n",
    "       178, 190, 180, 180, 165, 225, 269, 193, 210, 185, 190, 210, 170,\n",
    "       210, 145, 170, 180, 225, 180, 200, 170, 200, 148, 205, 175, 220,\n",
    "       175, 170, 175, 215, 210, 160, 150, 185, 179, 220, 180, 165, 195,\n",
    "       180, 175, 180, 180, 200, 210, 180, 160, 185, 190, 180, 165, 168,\n",
    "       182, 175, 200, 185, 210, 215, 220, 179, 196, 205, 185, 200, 175,\n",
    "       197, 300, 190, 237, 215, 180, 185, 170, 200, 200, 165, 193, 215,\n",
    "       185, 244, 155, 245, 180, 143, 210, 170, 180])"
   ]
  },
  {
   "cell_type": "code",
   "execution_count": 72,
   "metadata": {},
   "outputs": [
    {
     "name": "stdout",
     "output_type": "stream",
     "text": [
      "<class 'list'>\n",
      "516\n"
     ]
    }
   ],
   "source": [
    "print(type(weight_lb))\n",
    "print(len(weight_lb))"
   ]
  },
  {
   "cell_type": "markdown",
   "metadata": {},
   "source": [
    "#### Instructions 4.4\n",
    "\n",
    "*  Subset `np_weight_lb` by printing out the element at index `50`.\n",
    "*  Print out a sub-array of `np_height_in` that contains the elements at index `100` up to and including index `110`."
   ]
  },
  {
   "cell_type": "code",
   "execution_count": 73,
   "metadata": {},
   "outputs": [
    {
     "name": "stdout",
     "output_type": "stream",
     "text": [
      "149\n",
      "[69 68 73 78 75 67 69 76 77 68 79]\n"
     ]
    }
   ],
   "source": [
    "## code.py 4.4\n",
    "\n",
    "import numpy as np\n",
    "\n",
    "np_weight_lb = np.array(weight_lb)\n",
    "np_height_in = np.array(height_in)\n",
    "\n",
    "# Print out the weight at index 50\n",
    "print(np_weight_lb[50])\n",
    "\n",
    "# Print out sub-array of np_height: index 100 up to and including index 110\n",
    "print(np_height_in[100:111])\n",
    "\n"
   ]
  },
  {
   "cell_type": "markdown",
   "metadata": {},
   "source": [
    "---\n",
    "## Exercise 4.5:  Your First 2D NumPy Array\n",
    "---\n",
    "\n",
    "Before working on the actual PBA data, let's try to create a 2D `numpy` array from a small list of lists.\n",
    "\n",
    "In this exercise, `basketball` is a list of lists. \n",
    "\n",
    "The main list contains 4 elements. \n",
    "\n",
    "Each of these elements is a list containing the *height* and the *weight* of 4 baseball players, in this order. \n",
    "\n",
    "`baseball` is already coded for you in the script.\n",
    "\n",
    "#### Instructions 4.5\n",
    "\n",
    "*  Use `np.array()` to create a 2D `numpy` array from `basketball`. Name it `np_basketball`.\n",
    "\n",
    "*  Print out the type of `np_basketball`.\n",
    "\n",
    "*  Print out the `shape` attribute of `np_basketball`. Use `np_basketball.shape`.\n",
    "\n"
   ]
  },
  {
   "cell_type": "code",
   "execution_count": 79,
   "metadata": {},
   "outputs": [
    {
     "name": "stdout",
     "output_type": "stream",
     "text": [
      "<class 'numpy.ndarray'>\n",
      "(4, 2)\n"
     ]
    }
   ],
   "source": [
    "## code.py 4.5\n",
    "\n",
    "# Create basketball, a list of lists\n",
    "basketball = [[180, 78.4],\n",
    "            [215, 102.7],\n",
    "            [210, 98.5],\n",
    "            [188, 75.2]]\n",
    "\n",
    "# Import numpy\n",
    "import numpy as np\n",
    "\n",
    "# Create a 2D numpy array from basketball: np_basketball\n",
    "np_basketball = np.array(basketball)\n",
    "\n",
    "# Print out the type of np_basketball\n",
    "print(type(np_basketball))\n",
    "\n",
    "# Print out the shape of np_basketball\n",
    "print(np_basketball.shape)"
   ]
  },
  {
   "cell_type": "markdown",
   "metadata": {},
   "source": [
    "---\n",
    "## Exercise 4.6: Basketball data in 2D form\n",
    "---\n",
    "\n",
    "You realize that it makes more sense to restructure all this information in a 2D `numpy` array.\n",
    "\n",
    "You have a Python list of lists. \n",
    "\n",
    "In this list of lists, each sublist represents the *height* and *weight* of a single basketball player. \n",
    "\n",
    "The name of this list is `player` and it will be loaded below.\n",
    "\n",
    "Store the data as a 2D array to unlock `numpy`'s extra functionality."
   ]
  },
  {
   "cell_type": "code",
   "execution_count": 160,
   "metadata": {},
   "outputs": [],
   "source": [
    "# with open('datasets/player.pkl', 'wb') as file:\n",
    "#    pickle.dump(player, file)\n",
    "\n",
    "with open('datasets/player.pkl', 'rb') as file:\n",
    "    player = pickle.load(file)"
   ]
  },
  {
   "cell_type": "code",
   "execution_count": 161,
   "metadata": {},
   "outputs": [
    {
     "name": "stdout",
     "output_type": "stream",
     "text": [
      "<class 'list'>\n",
      "516\n",
      "[[70, 155], [71, 165], [73, 180]]\n"
     ]
    }
   ],
   "source": [
    "print(type(player))\n",
    "print(len(player))\n",
    "print(player[:3])"
   ]
  },
  {
   "cell_type": "markdown",
   "metadata": {},
   "source": [
    "#### Instructions 4.6\n",
    "\n",
    "*  Use `np.array()` to create a 2D `numpy` array from `basketball`. Name it `np_basketball`.\n",
    "\n",
    "*  Print out the *shape* attribute of `np_basketball`."
   ]
  },
  {
   "cell_type": "code",
   "execution_count": 94,
   "metadata": {},
   "outputs": [
    {
     "name": "stdout",
     "output_type": "stream",
     "text": [
      "(516, 2)\n"
     ]
    }
   ],
   "source": [
    "## code.py 4.6\n",
    "\n",
    "import numpy as np\n",
    "\n",
    "# Create a 2D numpy array from basketball: np_basketball\n",
    "np_basketball = np.array(basketball)\n",
    "\n",
    "# Print out the shape of np_basketball\n",
    "print(np_basketball.shape)\n"
   ]
  },
  {
   "cell_type": "markdown",
   "metadata": {},
   "source": [
    "---\n",
    "## Exercise 4.7:  Subsetting 2D NumPy Arrays\n",
    "---\n",
    "\n",
    "If your 2D `numpy` array has a regular structure, i.e. each *row* and *column* has a fixed number of values, complicated ways of subsetting become very easy. \n",
    "\n",
    "Have a look at the code below where the elements `\"a\"` and `\"c\"` are extracted from a list of lists.\n",
    "\n",
    "```\n",
    "# numpy\n",
    "import numpy as np\n",
    "np_x = np.array(x)\n",
    "np_x[:, 0]\n",
    "```\n",
    "\n",
    "*  The indexes before the comma refer to the *rows*, while those after the comma refer to the *columns*. \n",
    "\n",
    "*  The `:` is for slicing; in this example, it tells Python to include all rows.\n",
    "\n",
    "\n",
    "###  Instructions 4.7\n",
    "\n",
    "*  Print out the 50th row of `np_basketball`.\n",
    "\n",
    "*  Make a new variable, `np_weight_lb`, containing the entire second column of `np_basketball`.\n",
    "\n",
    "*  Select the *height* (first column) of the 124th baseball player in `np_basketball` and print it out.\n"
   ]
  },
  {
   "cell_type": "code",
   "execution_count": 155,
   "metadata": {},
   "outputs": [
    {
     "name": "stdout",
     "output_type": "stream",
     "text": [
      "[ 75 205  15]\n",
      "70\n"
     ]
    }
   ],
   "source": [
    "## code.py 4.7\n",
    "\n",
    "import numpy as np\n",
    "\n",
    "np_basketball = np.array(basketball)\n",
    "\n",
    "# Print out the 50th row of np_basketball\n",
    "print(np_basketball[49,0:])\n",
    "\n",
    "# Select the entire second column of np_basketball: np_weight_lb\n",
    "np_weight_lb = np_basketball[:,1]\n",
    "\n",
    "# Print out height of 124th player\n",
    "print(np_basketball[123,0])"
   ]
  },
  {
   "cell_type": "markdown",
   "metadata": {},
   "source": [
    "---\n",
    "## Exercise 4.7: 2D Arithmetic  \n",
    "---\n",
    "\n",
    "2D `numpy` arrays can perform calculations element by element, like `numpy` arrays.\n",
    "\n",
    "`np_basketball` is coded for you; it's again a 2D `numpy` array with 3 columns representing *height* (in inches), *weight* (in pounds) and *years_played* (number of years played). \n",
    "\n",
    "`basketball` is available as a *regular list of lists* and `updated` is available as 2D `numpy` array.\n",
    "\n"
   ]
  },
  {
   "cell_type": "code",
   "execution_count": 152,
   "metadata": {},
   "outputs": [],
   "source": [
    "import pickle\n",
    "\n",
    "with open('datasets/basketball.pkl', 'rb') as file0:\n",
    "    basketball = pickle.load(file0)\n",
    "\n",
    "with open('datasets/updated.pkl', 'rb') as file1:\n",
    "    updated = pickle.load(file1)\n"
   ]
  },
  {
   "cell_type": "code",
   "execution_count": 153,
   "metadata": {},
   "outputs": [
    {
     "name": "stdout",
     "output_type": "stream",
     "text": [
      "<class 'list'>\n",
      "516\n",
      "[[70, 155, 1], [71, 165, 12], [73, 180, 6]]\n"
     ]
    }
   ],
   "source": [
    "print(type(basketball))\n",
    "print(len(basketball))\n",
    "print(basketball[:3])"
   ]
  },
  {
   "cell_type": "code",
   "execution_count": 154,
   "metadata": {},
   "outputs": [
    {
     "name": "stdout",
     "output_type": "stream",
     "text": [
      "<class 'numpy.ndarray'>\n",
      "(516, 3)\n",
      "[[  0.430988    24.40705198   1.        ]\n",
      " [  0.91349429 -31.39857149   1.        ]\n",
      " [  0.5890831   19.97431077   1.        ]]\n"
     ]
    }
   ],
   "source": [
    "print(type(updated))\n",
    "print(updated.shape)\n",
    "print(updated[:3])"
   ]
  },
  {
   "cell_type": "markdown",
   "metadata": {},
   "source": [
    "## Instructions 4.7\n",
    "\n",
    "*  You managed to get hold of the changes in `height`, `weight` and `years_played` of all basketball players. It is available as a 2D numpy array, `updated`. Add `np_baseball` and `updated` and print out the result.\n",
    "\n",
    "*  You want to convert the units of height and weight to metric (*meters* and *kilograms*, respectively). As a first step, create a `numpy` array with three values: `0.0254`, `0.453592` and `1`. Name this array `conversion`.\n",
    "\n",
    "*  Multiply `np_baseball` with `conversion` and print out the result.\n"
   ]
  },
  {
   "cell_type": "code",
   "execution_count": 162,
   "metadata": {},
   "outputs": [
    {
     "name": "stdout",
     "output_type": "stream",
     "text": [
      "[[ 70.430988   179.40705198   2.        ]\n",
      " [ 71.91349429 133.60142851  13.        ]\n",
      " [ 73.5890831  199.97431077   7.        ]\n",
      " ...\n",
      " [ 78.59166301 180.78487452   9.        ]\n",
      " [ 71.53708962 161.17811067  10.        ]\n",
      " [ 72.28368578 213.45440371   2.        ]]\n",
      "[[ 1.778   70.30676  1.     ]\n",
      " [ 1.8034  74.84268 12.     ]\n",
      " [ 1.8542  81.64656  6.     ]\n",
      " ...\n",
      " [ 1.9812  95.25432  8.     ]\n",
      " [ 1.8034  77.11064  9.     ]\n",
      " [ 1.8034  81.64656  1.     ]]\n"
     ]
    }
   ],
   "source": [
    "## code.py 4.7\n",
    "\n",
    "# basketball is available as a regular list of lists\n",
    "# updated is available as 2D numpy array\n",
    "\n",
    "# Import numpy package\n",
    "import numpy as np\n",
    "\n",
    "# Create np_baseball (3 cols)\n",
    "np_basketball = np.array(basketball) \n",
    "\n",
    "# Print out addition of np_basketball and updated\n",
    "print(np_basketball + updated)\n",
    "\n",
    "# Create numpy array: conversion\n",
    "conversion = np.array([0.0254, 0.453592, 1])\n",
    "\n",
    "# Print out product of np_basketball and conversion\n",
    "print(np_basketball * conversion)\n"
   ]
  },
  {
   "cell_type": "code",
   "execution_count": null,
   "metadata": {},
   "outputs": [],
   "source": []
  },
  {
   "cell_type": "markdown",
   "metadata": {},
   "source": [
    "---\n",
    "## Exercise 4.8: Average versus median\n",
    "---\n",
    "\n",
    "You now know how to use `numpy` functions to get a better feeling for your data.\n",
    "\n",
    "The `basketball` data is available as a 2D numpy array with 3 columns (`height`, `weight`, `years_played`) and 516 rows. \n",
    "\n",
    "The name of this `numpy` array is `np_basketball`. \n",
    "\n",
    "After restructuring the data, however, you notice that some height values are abnormally high. \n",
    "\n",
    "Follow the instructions and discover which summary statistic is best suited if you're dealing with so-called *outliers*.` np_basketball` is available.\n"
   ]
  },
  {
   "cell_type": "code",
   "execution_count": 163,
   "metadata": {},
   "outputs": [
    {
     "name": "stdout",
     "output_type": "stream",
     "text": [
      "74.44961240310077\n",
      "75.0\n"
     ]
    }
   ],
   "source": [
    "## code.py 4.8\n",
    "\n",
    "# Import numpy\n",
    "import numpy as np\n",
    "\n",
    "# Create np_height_in from np_basketball\n",
    "np_height_in = np_basketball[:,0]\n",
    "\n",
    "# Print out the mean of np_height_in\n",
    "print(np.mean(np_height_in))\n",
    "\n",
    "# Print out the median of np_height_in\n",
    "print(np.median(np_height_in))"
   ]
  },
  {
   "cell_type": "markdown",
   "metadata": {},
   "source": [
    "---\n",
    "## Exercise 4.9:  Explore the basketball data\n",
    "---\n",
    "\n",
    "The Python script in the editor already includes code to print out informative messages with the different summary statistics and `numpy` is already loaded as `np`. \n",
    "\n",
    "Can you finish the job? `np_basketball` is available.\n",
    "\n",
    "## Instructions 4.9\n",
    "\n",
    "*  The code to print out the *mean height* is already included. Complete the code for the *median height*. Replace `None` with the correct code.\n",
    "\n",
    "*  Use `np.std()` on the first column of `np_basketball` to calculate `stddev`. Replace `None` with the correct code.\n",
    "\n",
    "*  Do big players tend to be heavier? Use `np.corrcoef()` to store the correlation between the first and second column of `np_basketball` in `corr`. Replace `None` with the correct code.\n",
    "\n"
   ]
  },
  {
   "cell_type": "code",
   "execution_count": 164,
   "metadata": {},
   "outputs": [
    {
     "name": "stdout",
     "output_type": "stream",
     "text": [
      "Average: 74.44961240310077\n",
      "Median: 75.0\n",
      "Standard Deviation: 3.324121939922492\n",
      "Correlation: [[1.         0.76554252]\n",
      " [0.76554252 1.        ]]\n"
     ]
    }
   ],
   "source": [
    "## code.py 4.9\n",
    "\n",
    "# np_basketball is available\n",
    "\n",
    "# Import numpy\n",
    "import numpy as np\n",
    "\n",
    "# Print mean height (first column)\n",
    "avg = np.mean(np_basketball[:,0])\n",
    "print(\"Average: \" + str(avg))\n",
    "\n",
    "# Print median height. Replace 'None'\n",
    "med = np.median(np_basketball[:,0])\n",
    "print(\"Median: \" + str(med))\n",
    "\n",
    "# Print out the standard deviation on height. Replace 'None'\n",
    "stddev = np.std(np_basketball[:,0])\n",
    "print(\"Standard Deviation: \" + str(stddev))\n",
    "\n",
    "# Print out correlation between first and second column. Replace 'None'\n",
    "corr = np.corrcoef(np_basketball[:,0],np_basketball[:,1])\n",
    "print(\"Correlation: \" + str(corr))\n",
    "\n",
    "\n",
    "\n",
    "\n"
   ]
  }
 ],
 "metadata": {
  "kernelspec": {
   "display_name": "Python 3",
   "language": "python",
   "name": "python3"
  },
  "language_info": {
   "codemirror_mode": {
    "name": "ipython",
    "version": 3
   },
   "file_extension": ".py",
   "mimetype": "text/x-python",
   "name": "python",
   "nbconvert_exporter": "python",
   "pygments_lexer": "ipython3",
   "version": "3.12.2"
  }
 },
 "nbformat": 4,
 "nbformat_minor": 2
}
