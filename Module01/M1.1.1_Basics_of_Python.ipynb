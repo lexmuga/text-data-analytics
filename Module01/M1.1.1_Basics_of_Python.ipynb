{
 "cells": [
  {
   "cell_type": "markdown",
   "metadata": {},
   "source": [
    "# 1.1.1 Basics of Python\n",
    "\n",
    "Welcome to our introduction to Python. \n",
    "\n",
    "Python is a high-level, interpreted programming language known for its simplicity and readability. It was created by Guido van Rossum and released in 1991. \n",
    "\n",
    "Today, Python is widely used for web development, data analysis, artificial intelligence, and more. To get started, you’ll need to install Python and choose an Integrated Development Environment (IDE) like Jupyter Notebook, PyCharm, or VS Code.\n"
   ]
  },
  {
   "cell_type": "markdown",
   "metadata": {},
   "source": [
    "\n",
    "## 1.1.1.1 Python Syntax and Basic Data Types\n",
    "\n",
    "Python’s syntax is designed to be readable and straightforward. \n",
    "\n",
    "Unlike many languages, Python uses indentation to define blocks of code. \n",
    "\n",
    "Comments can be added using the `#` symbol. \n",
    "\n",
    "Python supports several basic data types, including integers, floats for decimal numbers, strings for text, and booleans for true/false values.\n",
    "\n"
   ]
  },
  {
   "cell_type": "code",
   "execution_count": 1,
   "metadata": {},
   "outputs": [],
   "source": [
    "# Code snippet 1.1.1.1\n"
   ]
  },
  {
   "cell_type": "markdown",
   "metadata": {},
   "source": [
    "## 1.1.1.2  Variables and Basic Operations\n",
    "\n",
    "Variables in Python do not require explicit declaration; you can directly assign a value to a variable using the `=` operator. \n",
    "\n",
    "Python supports basic arithmetic operations such as addition, subtraction, multiplication, division, integer division, modulus, and exponentiation. \n",
    "\n",
    "Additionally, assignment operators like `+=` and `-=` simplify variable updates.\n",
    "\n"
   ]
  },
  {
   "cell_type": "code",
   "execution_count": null,
   "metadata": {},
   "outputs": [],
   "source": [
    "# Code snippet 1.1.1.2\n"
   ]
  },
  {
   "cell_type": "markdown",
   "metadata": {},
   "source": [
    "## 1.1.1.3 Data Structures: Lists and Tuples\n",
    "\n",
    "Lists and tuples are fundamental data structures in Python. Lists are mutable, meaning their content can be changed after creation, and they are ordered sequences of elements. \n",
    "\n",
    "Tuples, on the other hand, are immutable; once created, their content cannot be changed. \n",
    "\n",
    "Both lists and tuples support operations like indexing and slicing. Lists have additional methods for modification.\n",
    "\n"
   ]
  },
  {
   "cell_type": "code",
   "execution_count": null,
   "metadata": {},
   "outputs": [],
   "source": [
    "# Code snippet 1.1.1.3\n"
   ]
  },
  {
   "cell_type": "markdown",
   "metadata": {},
   "source": [
    "## 1.1.1.4  Control Flow Statements\n",
    "\n",
    "Control flow statements allow you to execute code based on conditions and repeatedly execute code blocks. \n",
    "\n",
    "The `if` statement checks a condition and executes code accordingly. You can add `elif` for additional conditions and `else` for the default case. \n",
    "\n",
    "Looping is done using `for` loops, which iterate over sequences, and `while` loops, which run as long as a condition is true. The `break` statement exits a loop, and `continue` skips to the next iteration."
   ]
  },
  {
   "cell_type": "code",
   "execution_count": null,
   "metadata": {},
   "outputs": [],
   "source": [
    "# Code snippet 1.1.1.4\n"
   ]
  },
  {
   "cell_type": "markdown",
   "metadata": {},
   "source": [
    "## 1.1.1.5 Basic Input and Output\n",
    "\n",
    "Python provides simple functions for input and output. \n",
    "\n",
    "The `input()` function allows you to capture user input as a string. \n",
    "\n",
    "You can use the `print()` function to display output. \n",
    "\n",
    "Together, they enable basic interaction with the user.\n"
   ]
  },
  {
   "cell_type": "code",
   "execution_count": null,
   "metadata": {},
   "outputs": [],
   "source": [
        "# Code snippet 1.1.1.5\n"
   ]
  },
  {
   "cell_type": "markdown",
   "metadata": {},
   "source": [
    "## 1.1.1.6  Basic String Operations\n",
    "\n",
    "Strings in Python are sequences of characters. \n",
    "\n",
    "You can concatenate strings using the `+` operator and perform various operations using string methods. \n",
    "\n",
    "Methods like `lower()` and `upper()` change the case of the string, `replace()` substitutes parts of the string, and `find()` locates substrings. \n",
    "\n",
    "You can also slice strings to extract parts of them.\n"
   ]
  },
  {
   "cell_type": "code",
   "execution_count": null,
   "metadata": {},
   "outputs": [],
   "source": [
        "# Code snippet 1.1.1.6\n"
   ]
  },
  {
   "cell_type": "markdown",
   "metadata": {},
   "source": [
    "\n",
    "### Summary\n",
    "This lecture covers the basics of Python programming, including syntax, basic data types, variables, data structures, control flow, input/output, and string operations. These foundational concepts will prepare you for more advanced topics in Python. "
   ]
  }
 ],
 "metadata": {
  "kernelspec": {
   "display_name": "Python 3",
   "language": "python",
   "name": "python3"
  },
  "language_info": {
   "codemirror_mode": {
    "name": "ipython",
    "version": 3
   },
   "file_extension": ".py",
   "mimetype": "text/x-python",
   "name": "python",
   "nbconvert_exporter": "python",
   "pygments_lexer": "ipython3",
   "version": "3.12.2"
  }
 },
 "nbformat": 4,
 "nbformat_minor": 2
}
